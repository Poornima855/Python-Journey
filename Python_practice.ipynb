{
  "nbformat": 4,
  "nbformat_minor": 0,
  "metadata": {
    "colab": {
      "provenance": []
    },
    "kernelspec": {
      "name": "python3",
      "display_name": "Python 3"
    },
    "language_info": {
      "name": "python"
    }
  },
  "cells": [
    {
      "cell_type": "markdown",
      "source": [
        "print() function"
      ],
      "metadata": {
        "id": "HL7Mfl1I7vUa"
      }
    },
    {
      "cell_type": "code",
      "execution_count": null,
      "metadata": {
        "colab": {
          "base_uri": "https://localhost:8080/"
        },
        "id": "ska6NFLm7UE0",
        "outputId": "ae987f72-7096-4705-81cf-3f8c915c98a4"
      },
      "outputs": [
        {
          "output_type": "stream",
          "name": "stdout",
          "text": [
            "9\n",
            "14\n",
            "hello world\n"
          ]
        }
      ],
      "source": [
        "print(2+7)\n",
        "print(2*7)\n",
        "print(\"hello world\")"
      ]
    },
    {
      "cell_type": "markdown",
      "source": [
        "Multiple Assignment operator"
      ],
      "metadata": {
        "id": "uwvCWtLf9EYj"
      }
    },
    {
      "cell_type": "code",
      "source": [
        "length, height, width = 2, 5, 8\n",
        "vol = length*height*width\n",
        "print(vol)"
      ],
      "metadata": {
        "colab": {
          "base_uri": "https://localhost:8080/"
        },
        "id": "SxXZgnhr8A0L",
        "outputId": "1a3c5a7f-fcb3-4999-9d98-8049e0091248"
      },
      "execution_count": null,
      "outputs": [
        {
          "output_type": "stream",
          "name": "stdout",
          "text": [
            "80\n"
          ]
        }
      ]
    },
    {
      "cell_type": "code",
      "source": [
        "a=3\n",
        "b=a\n",
        "print(b)"
      ],
      "metadata": {
        "colab": {
          "base_uri": "https://localhost:8080/"
        },
        "id": "KctjD7HE9T3r",
        "outputId": "4295b2cd-c016-46e9-97f3-3b3c46f702d3"
      },
      "execution_count": null,
      "outputs": [
        {
          "output_type": "stream",
          "name": "stdout",
          "text": [
            "3\n"
          ]
        }
      ]
    },
    {
      "cell_type": "code",
      "source": [
        "rent = 1700\n",
        "rent = 2000\n",
        "rent += 700\n",
        "print(rent)"
      ],
      "metadata": {
        "colab": {
          "base_uri": "https://localhost:8080/"
        },
        "id": "N5IQ6N-zX-yz",
        "outputId": "08066629-b2f2-493e-f5fe-c7ff8be7be5b"
      },
      "execution_count": null,
      "outputs": [
        {
          "output_type": "stream",
          "name": "stdout",
          "text": [
            "2700\n"
          ]
        }
      ]
    },
    {
      "cell_type": "code",
      "source": [
        "a = 3\n",
        "b = 2.5\n",
        "c = 3/2\n",
        "\n",
        "print(type(a))\n",
        "print(type(b))\n",
        "print(type(c))"
      ],
      "metadata": {
        "colab": {
          "base_uri": "https://localhost:8080/"
        },
        "id": "of2ttWecasuq",
        "outputId": "5aef2958-8aad-4081-80ae-0e95be7ce9c4"
      },
      "execution_count": null,
      "outputs": [
        {
          "output_type": "stream",
          "name": "stdout",
          "text": [
            "<class 'int'>\n",
            "<class 'float'>\n",
            "<class 'float'>\n"
          ]
        }
      ]
    },
    {
      "cell_type": "code",
      "source": [
        "a = float(3)\n",
        "b = int(28.9)\n",
        "print(a)\n",
        "print(b)"
      ],
      "metadata": {
        "colab": {
          "base_uri": "https://localhost:8080/"
        },
        "id": "EdradIXl_CWP",
        "outputId": "ace22e64-209f-465d-ec8d-2b0e153e8970"
      },
      "execution_count": null,
      "outputs": [
        {
          "output_type": "stream",
          "name": "stdout",
          "text": [
            "3.0\n",
            "28\n"
          ]
        }
      ]
    },
    {
      "cell_type": "code",
      "source": [
        "a = 3 > 1\n",
        "print(a)"
      ],
      "metadata": {
        "colab": {
          "base_uri": "https://localhost:8080/"
        },
        "id": "ueRUPUjl_Rs6",
        "outputId": "c2c789e5-8da7-4736-b0ba-1cd99e2747ff"
      },
      "execution_count": null,
      "outputs": [
        {
          "output_type": "stream",
          "name": "stdout",
          "text": [
            "True\n"
          ]
        }
      ]
    },
    {
      "cell_type": "code",
      "source": [
        "rent = 1200\n",
        "is_affordable = not(rent > 1000 and rent < 2000) #\"not\" just inverts bool value\n",
        "\n",
        "print(is_affordable)"
      ],
      "metadata": {
        "colab": {
          "base_uri": "https://localhost:8080/"
        },
        "id": "iqnKkKAVAhJK",
        "outputId": "95f00d8d-34b8-4581-8430-bc54ee130a5a"
      },
      "execution_count": null,
      "outputs": [
        {
          "output_type": "stream",
          "name": "stdout",
          "text": [
            "False\n"
          ]
        }
      ]
    },
    {
      "cell_type": "code",
      "source": [
        "motto = \"Learn | Code | Compete | Intern\"\n",
        "print(motto)"
      ],
      "metadata": {
        "colab": {
          "base_uri": "https://localhost:8080/"
        },
        "id": "QMS6XMrPFqKp",
        "outputId": "cc1f3b0c-9387-4779-b069-9214d3d93c92"
      },
      "execution_count": null,
      "outputs": [
        {
          "output_type": "stream",
          "name": "stdout",
          "text": [
            "Learn | Code | Compete | Intern\n"
          ]
        }
      ]
    },
    {
      "cell_type": "code",
      "source": [
        "type(motto)"
      ],
      "metadata": {
        "colab": {
          "base_uri": "https://localhost:8080/"
        },
        "id": "d_NHFWr7F1av",
        "outputId": "de346600-6a11-4515-c83a-d2643843541c"
      },
      "execution_count": null,
      "outputs": [
        {
          "output_type": "execute_result",
          "data": {
            "text/plain": [
              "str"
            ]
          },
          "metadata": {},
          "execution_count": 8
        }
      ]
    },
    {
      "cell_type": "code",
      "source": [
        "dialogue = '\"shiva you\\'re bag is red\"'\n",
        "print(dialogue)"
      ],
      "metadata": {
        "colab": {
          "base_uri": "https://localhost:8080/"
        },
        "id": "T8i0yqjQF3MH",
        "outputId": "1d97df15-af52-4565-b29e-b76427dbbd5e"
      },
      "execution_count": null,
      "outputs": [
        {
          "output_type": "stream",
          "name": "stdout",
          "text": [
            "\"shiva you're bag is red\"\n"
          ]
        }
      ]
    },
    {
      "cell_type": "code",
      "source": [
        "print(\"hello\" + \"world\")\n",
        "\n",
        "print(\"hello\" + \" \" + \"world\")"
      ],
      "metadata": {
        "colab": {
          "base_uri": "https://localhost:8080/"
        },
        "id": "VzMmvjMJGUAc",
        "outputId": "a901f06a-fcab-48eb-e91c-e6cc4d7856eb"
      },
      "execution_count": null,
      "outputs": [
        {
          "output_type": "stream",
          "name": "stdout",
          "text": [
            "helloworld\n",
            "hello world\n"
          ]
        }
      ]
    },
    {
      "cell_type": "code",
      "source": [
        "word = \"hello\"\n",
        "print(word * 5)"
      ],
      "metadata": {
        "colab": {
          "base_uri": "https://localhost:8080/"
        },
        "id": "ct-DTrH-HWUW",
        "outputId": "0e166891-a3b6-45bd-c7ed-8b160ab9c25e"
      },
      "execution_count": null,
      "outputs": [
        {
          "output_type": "stream",
          "name": "stdout",
          "text": [
            "hellohellohellohellohello\n"
          ]
        }
      ]
    },
    {
      "cell_type": "code",
      "source": [
        "word_length = len(\"ShapeAI\")\n",
        "print(word_length)"
      ],
      "metadata": {
        "colab": {
          "base_uri": "https://localhost:8080/"
        },
        "id": "PmrqHDCTHapN",
        "outputId": "8baf0f70-910b-47c5-a25a-f98daaab3636"
      },
      "execution_count": null,
      "outputs": [
        {
          "output_type": "stream",
          "name": "stdout",
          "text": [
            "7\n"
          ]
        }
      ]
    },
    {
      "cell_type": "code",
      "source": [
        "gandhi_quote = 'If you don\\'t ask, you don\\'t get it'\n",
        "print(gandhi_quote)"
      ],
      "metadata": {
        "colab": {
          "base_uri": "https://localhost:8080/"
        },
        "id": "hsw7IENxIJri",
        "outputId": "0d6a01d3-724b-45ac-f880-e9e86e120171"
      },
      "execution_count": null,
      "outputs": [
        {
          "output_type": "stream",
          "name": "stdout",
          "text": [
            "If you don't ask, you don't get it\n"
          ]
        }
      ]
    },
    {
      "cell_type": "code",
      "source": [
        "model = \"VGG16\"\n",
        "iteration = \"150\"\n",
        "accuracy = \"67.98\"\n",
        "\n",
        "# \"the accuracy of ResNET50 model in 100th iteration is: 42.16%\"\n",
        "\n",
        "print(\"the accuracy of \"+ model+ \" in \"+ iteration+\"th iteration is: \"+accuracy +\"%\")"
      ],
      "metadata": {
        "colab": {
          "base_uri": "https://localhost:8080/"
        },
        "id": "SUUoOtnPIeRh",
        "outputId": "df32e038-f8aa-4aee-b33f-fcce772076a8"
      },
      "execution_count": null,
      "outputs": [
        {
          "output_type": "stream",
          "name": "stdout",
          "text": [
            "the accuracy of VGG16 in 150th iteration is: 67.98%\n"
          ]
        }
      ]
    },
    {
      "cell_type": "code",
      "source": [
        "given_name = \"Rahul\"\n",
        "middle_names = \"Shastri\"\n",
        "family_name = \"Mishra\"\n",
        "\n",
        "name_length = len(given_name)+len(middle_names)+len(family_name)\n",
        "\n",
        "driving_license_character_limit = 28\n",
        "print(name_length <= driving_license_character_limit)"
      ],
      "metadata": {
        "colab": {
          "base_uri": "https://localhost:8080/"
        },
        "id": "jmXzshxSK5YL",
        "outputId": "5b2f09aa-ba8d-448d-e367-010d9f7e59a9"
      },
      "execution_count": null,
      "outputs": [
        {
          "output_type": "stream",
          "name": "stdout",
          "text": [
            "True\n"
          ]
        }
      ]
    },
    {
      "cell_type": "code",
      "source": [
        "marks = 15\n",
        "subject = \"coding\"\n",
        "semester = \"first\"\n",
        "\n",
        "result = \"I scored \" + str(marks) + \" in \" + subject + \" during my \" + semester + \" semester.\"\n",
        "print(result)"
      ],
      "metadata": {
        "colab": {
          "base_uri": "https://localhost:8080/"
        },
        "id": "bzABQjuDLd3q",
        "outputId": "0ed8b16a-235f-43b5-d8ed-f109c89a2d78"
      },
      "execution_count": null,
      "outputs": [
        {
          "output_type": "stream",
          "name": "stdout",
          "text": [
            "I scored 15 in coding during my first semester.\n"
          ]
        }
      ]
    },
    {
      "cell_type": "code",
      "source": [
        "marks = \"15\"\n",
        "print(type(marks))\n",
        "\n",
        "marks = float(marks)\n",
        "print(type(marks))"
      ],
      "metadata": {
        "colab": {
          "base_uri": "https://localhost:8080/"
        },
        "id": "TYwpoMoTMiXJ",
        "outputId": "a0e78e41-1ac9-4a5f-bc56-4f4bb5ed26a3"
      },
      "execution_count": null,
      "outputs": [
        {
          "output_type": "stream",
          "name": "stdout",
          "text": [
            "<class 'str'>\n",
            "<class 'float'>\n"
          ]
        }
      ]
    },
    {
      "cell_type": "code",
      "source": [
        "mon_sales = \"121\"\n",
        "tues_sales = \"105\"\n",
        "wed_sales = \"110\"\n",
        "thurs_sales = \"98\"\n",
        "fri_sales = \"95\"\n",
        "\n",
        "total_sales = (float(mon_sales) + float(tues_sales) + float(wed_sales)\n",
        "                + float(thurs_sales) + float(fri_sales))\n",
        "print(\"This week\\'s total sales: \" + str(total_sales))"
      ],
      "metadata": {
        "colab": {
          "base_uri": "https://localhost:8080/"
        },
        "id": "gYTMkw-0NzG3",
        "outputId": "f264ad6b-966d-404c-f15c-53db915b29b6"
      },
      "execution_count": null,
      "outputs": [
        {
          "output_type": "stream",
          "name": "stdout",
          "text": [
            "This week's total sales: 529.0\n"
          ]
        }
      ]
    },
    {
      "cell_type": "code",
      "source": [
        "\n",
        "print(\"Mohammed has {} balloons\".format(27))\n",
        "\n",
        "animal = \"dog\"\n",
        "action = \"bite\"\n",
        "print(\"Does your {} {}?\".format(animal, action))\n",
        "\n",
        "maria_string = \"Maria loves {} and {}\"\n",
        "print(maria_string.format(\"math\",\"statistics\"))"
      ],
      "metadata": {
        "colab": {
          "base_uri": "https://localhost:8080/"
        },
        "id": "Hpdy9WQHORjw",
        "outputId": "013267be-98a7-459c-a861-eb0b3a9b2583"
      },
      "execution_count": null,
      "outputs": [
        {
          "output_type": "stream",
          "name": "stdout",
          "text": [
            "Mohammed has 27 balloons\n",
            "Does your dog bite?\n",
            "Maria loves math and statistics\n"
          ]
        }
      ]
    },
    {
      "cell_type": "markdown",
      "source": [
        " Lists and Membership Operators:"
      ],
      "metadata": {
        "id": "hyaq1q58P_79"
      }
    },
    {
      "cell_type": "code",
      "source": [
        "students = ['sam', 'pam', 'rocky', 'austin', 'steve', 'banner']"
      ],
      "metadata": {
        "id": "MWPN9KKvPHo5"
      },
      "execution_count": null,
      "outputs": []
    },
    {
      "cell_type": "code",
      "source": [
        "print(students[0])\n",
        "print(students[1])\n",
        "print(students[2])"
      ],
      "metadata": {
        "colab": {
          "base_uri": "https://localhost:8080/"
        },
        "id": "5p0lPAdNQFaC",
        "outputId": "46a108a7-df6d-40c7-de39-b7ca692d254f"
      },
      "execution_count": null,
      "outputs": [
        {
          "output_type": "stream",
          "name": "stdout",
          "text": [
            "sam\n",
            "pam\n",
            "rocky\n"
          ]
        }
      ]
    },
    {
      "cell_type": "code",
      "source": [
        "print(students[-1])\n",
        "print(students[-2])\n",
        "print(students[-3])"
      ],
      "metadata": {
        "colab": {
          "base_uri": "https://localhost:8080/"
        },
        "id": "WFTlQoCBQHq_",
        "outputId": "ffaeb5bd-4854-42b8-a32b-389d0427bd6f"
      },
      "execution_count": null,
      "outputs": [
        {
          "output_type": "stream",
          "name": "stdout",
          "text": [
            "banner\n",
            "steve\n",
            "austin\n"
          ]
        }
      ]
    },
    {
      "cell_type": "code",
      "source": [
        "students[len(students)-1]"
      ],
      "metadata": {
        "colab": {
          "base_uri": "https://localhost:8080/",
          "height": 35
        },
        "id": "yLqqfqCEQNr4",
        "outputId": "2367bcaa-d3d6-4fe1-ce47-dd6ceea29919"
      },
      "execution_count": null,
      "outputs": [
        {
          "output_type": "execute_result",
          "data": {
            "text/plain": [
              "'banner'"
            ],
            "application/vnd.google.colaboratory.intrinsic+json": {
              "type": "string"
            }
          },
          "metadata": {},
          "execution_count": 27
        }
      ]
    },
    {
      "cell_type": "markdown",
      "source": [
        "Slicing means using indicies to slice off parts of an object like list/string."
      ],
      "metadata": {
        "id": "Rqm7FWZtQ_kT"
      }
    },
    {
      "cell_type": "code",
      "source": [
        "students = ['sam', 'pam', 'rocky', 'austin', 'steve', 'banner', 'tony', 'bruce',\n",
        "            'henry', 'clark', 'diana']\n",
        "student = \"Barry\"\n",
        "\n",
        "# slice a particular range\n",
        "marvel = students[4:7]\n",
        "flash = student[1:3]\n",
        "\n",
        "print(marvel)\n",
        "print(flash)"
      ],
      "metadata": {
        "colab": {
          "base_uri": "https://localhost:8080/"
        },
        "id": "rLxovXIwQUGL",
        "outputId": "c09446dd-d2ce-41a9-b5b0-04e9dbb22111"
      },
      "execution_count": null,
      "outputs": [
        {
          "output_type": "stream",
          "name": "stdout",
          "text": [
            "['steve', 'banner', 'tony']\n",
            "ar\n"
          ]
        }
      ]
    },
    {
      "cell_type": "code",
      "source": [
        "dc = students[7:]\n",
        "flash = student[1:]\n",
        "\n",
        "print(dc)\n",
        "print(flash)\n"
      ],
      "metadata": {
        "colab": {
          "base_uri": "https://localhost:8080/"
        },
        "id": "1yhLZqYoRUMX",
        "outputId": "09e95e3f-46ff-4dcd-b1b4-630aa6ea7faf"
      },
      "execution_count": null,
      "outputs": [
        {
          "output_type": "stream",
          "name": "stdout",
          "text": [
            "['bruce', 'henry', 'clark', 'diana']\n",
            "arry\n"
          ]
        }
      ]
    },
    {
      "cell_type": "code",
      "source": [
        "normal = students[:4]\n",
        "flash = student[:3]\n",
        "\n",
        "print(normal)\n",
        "print(flash)"
      ],
      "metadata": {
        "colab": {
          "base_uri": "https://localhost:8080/"
        },
        "id": "XOR56wKDRjKy",
        "outputId": "91b38397-2594-4210-fd46-30f2f5a5d3ed"
      },
      "execution_count": null,
      "outputs": [
        {
          "output_type": "stream",
          "name": "stdout",
          "text": [
            "['sam', 'pam', 'rocky', 'austin']\n",
            "Bar\n"
          ]
        }
      ]
    },
    {
      "cell_type": "code",
      "source": [
        "print(len(students))\n",
        "print(len(student))"
      ],
      "metadata": {
        "colab": {
          "base_uri": "https://localhost:8080/"
        },
        "id": "8O9E3tCQRswC",
        "outputId": "aa5aaad0-da75-48a2-e354-aa7de1bd5c59"
      },
      "execution_count": null,
      "outputs": [
        {
          "output_type": "stream",
          "name": "stdout",
          "text": [
            "11\n",
            "5\n"
          ]
        }
      ]
    },
    {
      "cell_type": "code",
      "source": [
        "greeting = \"Hello there\"\n",
        "print('her' in greeting, 'her' not in greeting)"
      ],
      "metadata": {
        "colab": {
          "base_uri": "https://localhost:8080/"
        },
        "id": "5zsMeRurSSTW",
        "outputId": "773a2278-6ac0-470c-bf1b-ebb9148ea869"
      },
      "execution_count": null,
      "outputs": [
        {
          "output_type": "stream",
          "name": "stdout",
          "text": [
            "True False\n"
          ]
        }
      ]
    },
    {
      "cell_type": "code",
      "source": [
        "greeting = \"Hello gargi\"\n",
        "print('her' in greeting, 'her' not in greeting)"
      ],
      "metadata": {
        "colab": {
          "base_uri": "https://localhost:8080/"
        },
        "id": "oGPTqSV-UFsw",
        "outputId": "a7bbe5d9-2452-44c4-d989-f15318f6ac01"
      },
      "execution_count": null,
      "outputs": [
        {
          "output_type": "stream",
          "name": "stdout",
          "text": [
            "False True\n"
          ]
        }
      ]
    },
    {
      "cell_type": "code",
      "source": [
        "print('ShapeAI' in students, 'ShapeAI' not in students)"
      ],
      "metadata": {
        "colab": {
          "base_uri": "https://localhost:8080/"
        },
        "id": "frnQS2uaUQ4Q",
        "outputId": "2fba4043-484d-4dd3-8493-01977032f3b8"
      },
      "execution_count": null,
      "outputs": [
        {
          "output_type": "stream",
          "name": "stdout",
          "text": [
            "False True\n"
          ]
        }
      ]
    },
    {
      "cell_type": "markdown",
      "source": [
        "The most obvious diffrence between them is that string is a sequence of characters while list's elements can be any type of bojects string, integers, floats orr bools.\n",
        "\n",
        "A more important diference is that lists can be modified but string can't."
      ],
      "metadata": {
        "id": "lutcaSMgUjMx"
      }
    },
    {
      "cell_type": "markdown",
      "source": [
        ". Mutability and Order:"
      ],
      "metadata": {
        "id": "m5QbqO29UqlJ"
      }
    },
    {
      "cell_type": "code",
      "source": [
        "students = ['sam', 'pam', 'rocky', 'austin', 'steve', 'banner', 'tony', 'bruce',\n",
        "            'henry', 'clark', 'diana']\n",
        "students[2] = 'ben'\n",
        "print(students)\n"
      ],
      "metadata": {
        "colab": {
          "base_uri": "https://localhost:8080/"
        },
        "id": "zzEe8rJ8UYFe",
        "outputId": "618df942-0a05-483b-acbb-f42764c5bc76"
      },
      "execution_count": null,
      "outputs": [
        {
          "output_type": "stream",
          "name": "stdout",
          "text": [
            "['sam', 'pam', 'ben', 'austin', 'steve', 'banner', 'tony', 'bruce', 'henry', 'clark', 'diana']\n"
          ]
        }
      ]
    },
    {
      "cell_type": "code",
      "source": [
        "student = \"Barry\"\n",
        "#student[1] = 'e'  ('str' object does not support item assignment)\n",
        "print(student[1])"
      ],
      "metadata": {
        "colab": {
          "base_uri": "https://localhost:8080/"
        },
        "id": "0vWj-uMtU0e1",
        "outputId": "3e77af1b-e1b1-43c4-cfd6-f2f987ac9d9d"
      },
      "execution_count": null,
      "outputs": [
        {
          "output_type": "stream",
          "name": "stdout",
          "text": [
            "a\n"
          ]
        }
      ]
    },
    {
      "cell_type": "code",
      "source": [
        "student = \"pam\"\n",
        "character = student\n",
        "print(character)\n",
        "character = \"peter\"\n",
        "print(character)\n",
        "print(student)"
      ],
      "metadata": {
        "colab": {
          "base_uri": "https://localhost:8080/"
        },
        "id": "kIZbfqYVVJLM",
        "outputId": "e88997ba-a981-4bf8-eb13-fd606989993a"
      },
      "execution_count": null,
      "outputs": [
        {
          "output_type": "stream",
          "name": "stdout",
          "text": [
            "pam\n",
            "peter\n",
            "pam\n"
          ]
        }
      ]
    },
    {
      "cell_type": "code",
      "source": [
        "students = ['sam', 'pam', 'rocky', 'austin', 'steve', 'banner', 'tony', 'bruce',\n",
        "            'henry', 'clark', 'diana']\n",
        "characters = students\n",
        "print(characters)\n",
        "characters[1]= \"peter\"\n",
        "print(characters)\n",
        "print(students)"
      ],
      "metadata": {
        "colab": {
          "base_uri": "https://localhost:8080/"
        },
        "id": "iH3iO9m5Z4C1",
        "outputId": "41e25d58-fbae-4595-a442-f56813cb7cce"
      },
      "execution_count": null,
      "outputs": [
        {
          "output_type": "stream",
          "name": "stdout",
          "text": [
            "['sam', 'pam', 'rocky', 'austin', 'steve', 'banner', 'tony', 'bruce', 'henry', 'clark', 'diana']\n",
            "['sam', 'peter', 'rocky', 'austin', 'steve', 'banner', 'tony', 'bruce', 'henry', 'clark', 'diana']\n",
            "['sam', 'peter', 'rocky', 'austin', 'steve', 'banner', 'tony', 'bruce', 'henry', 'clark', 'diana']\n"
          ]
        }
      ]
    },
    {
      "cell_type": "markdown",
      "source": [
        "len(): returns how many elements does the list has.\n",
        "\n",
        "max(): returns the greatest element of a list.\n",
        "\n",
        "min(): returns the smallest element of a list.\n",
        "\n",
        "sorted(): returns a copy of the list, in order from smallest to the largest. leaving the orignal list unchanged\n",
        "\n",
        "max element in a list of integers is the largest integer, while in the case of string is the string that will come last if the list was sorted alphabetically."
      ],
      "metadata": {
        "id": "wLIaZycwpFAJ"
      }
    },
    {
      "cell_type": "code",
      "source": [
        "students = ['sam', 'pam', 'rocky', 'austin', 'steve', 'banner', 'tony', 'bruce',\n",
        "            'henry', 'clark', 'diana']\n",
        "\n",
        "student = \"barry\"\n",
        "\n",
        "print(max(students))\n",
        "print(max(student))"
      ],
      "metadata": {
        "colab": {
          "base_uri": "https://localhost:8080/"
        },
        "id": "RQX0_1LHo9bv",
        "outputId": "d02566cd-418c-4f9b-a4bf-a9c956657144"
      },
      "execution_count": null,
      "outputs": [
        {
          "output_type": "stream",
          "name": "stdout",
          "text": [
            "tony\n",
            "y\n"
          ]
        }
      ]
    },
    {
      "cell_type": "code",
      "source": [
        "#max([2, 'two']) ('>' not supported between instances of 'str' and 'int')"
      ],
      "metadata": {
        "id": "FZvHlRVApN2w"
      },
      "execution_count": null,
      "outputs": []
    },
    {
      "cell_type": "code",
      "source": [
        "characters = sorted(students)\n",
        "print(characters)"
      ],
      "metadata": {
        "colab": {
          "base_uri": "https://localhost:8080/"
        },
        "id": "_yz-aqVeppMF",
        "outputId": "b7a26fde-6e14-4c23-a6e2-dd51354d79eb"
      },
      "execution_count": null,
      "outputs": [
        {
          "output_type": "stream",
          "name": "stdout",
          "text": [
            "['austin', 'banner', 'bruce', 'clark', 'diana', 'henry', 'pam', 'rocky', 'sam', 'steve', 'tony']\n"
          ]
        }
      ]
    },
    {
      "cell_type": "markdown",
      "source": [
        "Join() is an other useful function for lists(string lists), Join is a string method that takes a list of strings as an argument, and returns a string consisting of the list elements joined by a separator string"
      ],
      "metadata": {
        "id": "d4ZdatKos51q"
      }
    },
    {
      "cell_type": "code",
      "source": [
        "sep_str = \"\\n\".join([\"Jack\", \"O\", \"Lantern\"])\n",
        "print(sep_str)"
      ],
      "metadata": {
        "colab": {
          "base_uri": "https://localhost:8080/"
        },
        "id": "An2c9xDPp2IN",
        "outputId": "5c16f1c5-5b61-4d45-e855-d029c59ae541"
      },
      "execution_count": null,
      "outputs": [
        {
          "output_type": "stream",
          "name": "stdout",
          "text": [
            "Jack\n",
            "O\n",
            "Lantern\n"
          ]
        }
      ]
    },
    {
      "cell_type": "code",
      "source": [
        "name = \"-\".join([\"Jack\", \"O\", \"Lantern\"])\n",
        "print(name)"
      ],
      "metadata": {
        "colab": {
          "base_uri": "https://localhost:8080/"
        },
        "id": "jFfvtgJWs-48",
        "outputId": "df516f21-57a2-4e15-d86f-fd8704ff4c83"
      },
      "execution_count": null,
      "outputs": [
        {
          "output_type": "stream",
          "name": "stdout",
          "text": [
            "Jack-O-Lantern\n"
          ]
        }
      ]
    },
    {
      "cell_type": "markdown",
      "source": [
        "append() is an other useful method that adds an element to the end of a list."
      ],
      "metadata": {
        "id": "1B52haGLtHjD"
      }
    },
    {
      "cell_type": "code",
      "source": [
        "letters = ['a', 'b', 'c', 'd']\n",
        "letters.append('e')\n",
        "print(letters)"
      ],
      "metadata": {
        "colab": {
          "base_uri": "https://localhost:8080/"
        },
        "id": "99izg3JptDQL",
        "outputId": "80dff220-be8b-495b-e78d-8aafa2503661"
      },
      "execution_count": null,
      "outputs": [
        {
          "output_type": "stream",
          "name": "stdout",
          "text": [
            "['a', 'b', 'c', 'd', 'e']\n"
          ]
        }
      ]
    },
    {
      "cell_type": "markdown",
      "source": [
        "# Tuples:"
      ],
      "metadata": {
        "id": "KpuJAA-ItPPK"
      }
    },
    {
      "cell_type": "code",
      "source": [
        " #It's a data type for immutable ordered sequences of elements.\n",
        "\n",
        "vector = (4, 5, 9)\n",
        "print(\"x-coordinate:\", vector[0])\n",
        "print(\"y-coordinate:\", vector[1])\n",
        "print(\"z-coordinate:\", vector[2])"
      ],
      "metadata": {
        "colab": {
          "base_uri": "https://localhost:8080/"
        },
        "id": "xVtiLxGNtLp8",
        "outputId": "4d1fff7c-ff71-4830-ed23-0f00be04cbed"
      },
      "execution_count": null,
      "outputs": [
        {
          "output_type": "stream",
          "name": "stdout",
          "text": [
            "x-coordinate: 4\n",
            "y-coordinate: 5\n",
            "z-coordinate: 9\n"
          ]
        }
      ]
    },
    {
      "cell_type": "code",
      "source": [
        "location = 108.7774, 92.5556\n",
        "latitude, longtitude = location\n",
        "print(\"The coordinates are {} x {}\".format(latitude, longtitude))\n"
      ],
      "metadata": {
        "colab": {
          "base_uri": "https://localhost:8080/"
        },
        "id": "VmPql6dXtd8A",
        "outputId": "19aff941-1560-4209-ccc5-ad986d3db1b9"
      },
      "execution_count": null,
      "outputs": [
        {
          "output_type": "stream",
          "name": "stdout",
          "text": [
            "The coordinates are 108.7774 x 92.5556\n"
          ]
        }
      ]
    },
    {
      "cell_type": "markdown",
      "source": [
        "# Dictionaries and Identity Operators:"
      ],
      "metadata": {
        "id": "bNxynCAot0q1"
      }
    },
    {
      "cell_type": "code",
      "source": [
        "#A dictionary is a mutable data type that stores mappings of unique keys to values.\n",
        "\n",
        "elements = {\"hydrogen\": 1, \"helium\": 2, \"carbon\": 6}\n",
        "\n",
        "print(elements[\"helium\"])\n",
        "elements[\"lithium\"] = 3\n",
        "print(elements[\"lithium\"])\n",
        "print(elements)"
      ],
      "metadata": {
        "colab": {
          "base_uri": "https://localhost:8080/"
        },
        "id": "8jHKHjKvtmUP",
        "outputId": "e973ae71-6a9a-4b0c-cd3e-6f4d75b36243"
      },
      "execution_count": null,
      "outputs": [
        {
          "output_type": "stream",
          "name": "stdout",
          "text": [
            "2\n",
            "3\n",
            "{'hydrogen': 1, 'helium': 2, 'carbon': 6, 'lithium': 3}\n"
          ]
        }
      ]
    },
    {
      "cell_type": "code",
      "source": [
        "print(\"carbon\" in elements)\n",
        "print(elements.get(\"dilithium\"))"
      ],
      "metadata": {
        "colab": {
          "base_uri": "https://localhost:8080/"
        },
        "id": "HI1I4m65uC-4",
        "outputId": "0e4f51b1-2fb9-479c-de69-cc035c0c5807"
      },
      "execution_count": null,
      "outputs": [
        {
          "output_type": "stream",
          "name": "stdout",
          "text": [
            "True\n",
            "None\n"
          ]
        }
      ]
    },
    {
      "cell_type": "code",
      "source": [
        "n = elements.get(\"dilithium\")\n",
        "print(n is None)\n",
        "print(n is not None)"
      ],
      "metadata": {
        "colab": {
          "base_uri": "https://localhost:8080/"
        },
        "id": "j6J5H-ppum9n",
        "outputId": "e433e2bb-222f-467c-8043-2b476acdaf9f"
      },
      "execution_count": null,
      "outputs": [
        {
          "output_type": "stream",
          "name": "stdout",
          "text": [
            "True\n",
            "False\n"
          ]
        }
      ]
    },
    {
      "cell_type": "code",
      "source": [
        "population = {\"New York\":17.8, \"Spain\":13.3, \"Dhaka\":13.0, \"Mumbai\":12.5}\n",
        "print(population)"
      ],
      "metadata": {
        "colab": {
          "base_uri": "https://localhost:8080/"
        },
        "id": "-pS20umVusKm",
        "outputId": "f4dde4fa-c118-4d9b-940f-fa4034b6c2a3"
      },
      "execution_count": null,
      "outputs": [
        {
          "output_type": "stream",
          "name": "stdout",
          "text": [
            "{'New York': 17.8, 'Spain': 13.3, 'Dhaka': 13.0, 'Mumbai': 12.5}\n"
          ]
        }
      ]
    },
    {
      "cell_type": "code",
      "source": [
        "population.get('London', 'There\\'s no such place!')"
      ],
      "metadata": {
        "colab": {
          "base_uri": "https://localhost:8080/",
          "height": 35
        },
        "id": "aC6QiLMou2cU",
        "outputId": "c85d58a4-c35c-4d81-e0a5-f4690ff3e78c"
      },
      "execution_count": null,
      "outputs": [
        {
          "output_type": "execute_result",
          "data": {
            "text/plain": [
              "\"There's no such place!\""
            ],
            "application/vnd.google.colaboratory.intrinsic+json": {
              "type": "string"
            }
          },
          "metadata": {},
          "execution_count": 19
        }
      ]
    },
    {
      "cell_type": "code",
      "source": [
        "elements = {\"hydrogen\": {\"number\": 1,\n",
        "                         \"weight\": 1.00794,\n",
        "                         \"symbol\": \"H\"},\n",
        "              \"helium\": {\"number\": 2,\n",
        "                         \"weight\": 4.002602,\n",
        "                         \"symbol\": \"He\"}}"
      ],
      "metadata": {
        "id": "Tp55BdN7u5oN"
      },
      "execution_count": null,
      "outputs": []
    },
    {
      "cell_type": "code",
      "source": [
        "helium = elements[\"helium\"]\n",
        "hydrogen_weight = elements[\"hydrogen\"][\"weight\"]\n",
        "\n",
        "print(helium)\n",
        "print(hydrogen_weight)\n"
      ],
      "metadata": {
        "colab": {
          "base_uri": "https://localhost:8080/"
        },
        "id": "Du8EfRgeu_Bt",
        "outputId": "2fae2bb2-939b-4813-dc35-7c46faf13b61"
      },
      "execution_count": null,
      "outputs": [
        {
          "output_type": "stream",
          "name": "stdout",
          "text": [
            "{'number': 2, 'weight': 4.002602, 'symbol': 'He'}\n",
            "1.00794\n"
          ]
        }
      ]
    },
    {
      "cell_type": "code",
      "source": [
        "oxygen = {\"number\":8,\"weight\":15.999,\"symbol\":\"O\"}\n",
        "elements[\"oxygen\"] = oxygen\n",
        "\n",
        "print('elements = ', elements)"
      ],
      "metadata": {
        "colab": {
          "base_uri": "https://localhost:8080/"
        },
        "id": "IRz5Vpy9vKiJ",
        "outputId": "e48c5150-44e0-42f1-dc18-19c0fa50d2c3"
      },
      "execution_count": null,
      "outputs": [
        {
          "output_type": "stream",
          "name": "stdout",
          "text": [
            "elements =  {'hydrogen': {'number': 1, 'weight': 1.00794, 'symbol': 'H'}, 'helium': {'number': 2, 'weight': 4.002602, 'symbol': 'He'}, 'oxygen': {'number': 8, 'weight': 15.999, 'symbol': 'O'}}\n"
          ]
        }
      ]
    },
    {
      "cell_type": "code",
      "source": [
        "elements = {'hydrogen': {'number': 1, 'weight': 1.00794, 'symbol': 'H'},\n",
        "            'helium': {'number': 2, 'weight': 4.002602, 'symbol': 'He'}}\n",
        "\n",
        "elements['helium']['is_noble_gas'] = True\n",
        "elements['hydrogen']['is_noble_gas'] = False\n",
        "\n",
        "print(elements['helium']['is_noble_gas'])\n",
        "print(elements['hydrogen']['is_noble_gas'])"
      ],
      "metadata": {
        "colab": {
          "base_uri": "https://localhost:8080/"
        },
        "id": "uDOxMOuTvTXS",
        "outputId": "96bfb5ea-b7b3-4f6a-91e1-54897d41380e"
      },
      "execution_count": null,
      "outputs": [
        {
          "output_type": "stream",
          "name": "stdout",
          "text": [
            "True\n",
            "False\n"
          ]
        }
      ]
    },
    {
      "cell_type": "code",
      "source": [
        "cities = ['new york city', 'mountain view', 'chicago', 'los angeles']\n",
        "for city in cities:\n",
        "    print(city)\n",
        "print(\"Done!\")\n"
      ],
      "metadata": {
        "colab": {
          "base_uri": "https://localhost:8080/"
        },
        "id": "ARGj_Elnvjlz",
        "outputId": "c9d9d5b5-740b-4f19-fc72-00e5a152fa9f"
      },
      "execution_count": null,
      "outputs": [
        {
          "output_type": "stream",
          "name": "stdout",
          "text": [
            "new york city\n",
            "mountain view\n",
            "chicago\n",
            "los angeles\n",
            "Done!\n"
          ]
        }
      ]
    },
    {
      "cell_type": "code",
      "source": [
        "for i in range(3):\n",
        "    print(\"Hello!\")"
      ],
      "metadata": {
        "colab": {
          "base_uri": "https://localhost:8080/"
        },
        "id": "kJ9kV7n4xF90",
        "outputId": "e1135f3c-07a0-4860-d650-d84585fdbd51"
      },
      "execution_count": null,
      "outputs": [
        {
          "output_type": "stream",
          "name": "stdout",
          "text": [
            "Hello!\n",
            "Hello!\n",
            "Hello!\n"
          ]
        }
      ]
    },
    {
      "cell_type": "code",
      "source": [
        "#range(start=0, stop, step=1)\n",
        "\n",
        "for i in range(4):\n",
        "  print(i)"
      ],
      "metadata": {
        "colab": {
          "base_uri": "https://localhost:8080/"
        },
        "id": "08pQ0Z5HxJmq",
        "outputId": "01db1ed2-c37c-4e54-d918-c929f8612573"
      },
      "execution_count": null,
      "outputs": [
        {
          "output_type": "stream",
          "name": "stdout",
          "text": [
            "0\n",
            "1\n",
            "2\n",
            "3\n"
          ]
        }
      ]
    },
    {
      "cell_type": "code",
      "source": [
        "for i in range(2, 6):\n",
        "  print(i)"
      ],
      "metadata": {
        "colab": {
          "base_uri": "https://localhost:8080/"
        },
        "id": "QMoR9a6_xSWt",
        "outputId": "b8a1e700-d5f8-40cc-a2ca-c7d86a6ab155"
      },
      "execution_count": null,
      "outputs": [
        {
          "output_type": "stream",
          "name": "stdout",
          "text": [
            "2\n",
            "3\n",
            "4\n",
            "5\n"
          ]
        }
      ]
    },
    {
      "cell_type": "code",
      "source": [
        "for i in range(1, 10, 2):\n",
        "  print(i)"
      ],
      "metadata": {
        "id": "IxFnYVaOxVXJ",
        "outputId": "5ac39168-baeb-46ad-9b69-a85c5858fe1c",
        "colab": {
          "base_uri": "https://localhost:8080/"
        }
      },
      "execution_count": null,
      "outputs": [
        {
          "output_type": "stream",
          "name": "stdout",
          "text": [
            "1\n",
            "3\n",
            "5\n",
            "7\n",
            "9\n"
          ]
        }
      ]
    },
    {
      "cell_type": "code",
      "source": [],
      "metadata": {
        "id": "pWBd4UOjxYcj"
      },
      "execution_count": null,
      "outputs": []
    }
  ]
}