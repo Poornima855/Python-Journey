{
  "nbformat": 4,
  "nbformat_minor": 0,
  "metadata": {
    "colab": {
      "provenance": []
    },
    "kernelspec": {
      "name": "python3",
      "display_name": "Python 3"
    },
    "language_info": {
      "name": "python"
    }
  },
  "cells": [
    {
      "cell_type": "markdown",
      "source": [
        "## Strings\n",
        "\n",
        "A string is a **sequence of characters**.\n",
        "\n",
        "Conversion of character to a number is called encoding, and the reverse process is decoding. ASCII and Unicode are some of the popular encoding used.\n",
        "\n",
        "In Python, string is a sequence of **Unicode character**."
      ],
      "metadata": {
        "id": "Az-Zs8eS-Nhz"
      }
    },
    {
      "cell_type": "markdown",
      "source": [
        "## How to create a string?\n",
        "\n",
        "Strings can be created by enclosing characters inside a single quote or double quotes.\n",
        "\n",
        "Even triple quotes can be used in Python but generally used to represent multiline strings and docstrings"
      ],
      "metadata": {
        "id": "2-d0MPMp_DKa"
      }
    },
    {
      "cell_type": "code",
      "execution_count": null,
      "metadata": {
        "colab": {
          "base_uri": "https://localhost:8080/"
        },
        "id": "6lrIvghTm1Wx",
        "outputId": "bca229c8-e87b-43c9-f22e-f838e49490b8"
      },
      "outputs": [
        {
          "output_type": "stream",
          "name": "stdout",
          "text": [
            "hello\n",
            "hello\n",
            "hello\n"
          ]
        }
      ],
      "source": [
        "mystring='hello'\n",
        "print(mystring)\n",
        "\n",
        "mystring=\"hello\"\n",
        "print(mystring)\n",
        "\n",
        "mystring='''hello'''\n",
        "print(mystring)"
      ]
    },
    {
      "cell_type": "markdown",
      "source": [
        "## How to access characters in a string?\n",
        "\n",
        "we can access individual characters using **indexing** and a range of characters using **slicing.**\n",
        "\n",
        "Index starts from 0\n",
        "\n",
        "Trying to access a character out of index range will raise an **IndexError**.\n",
        "\n",
        "The index must be an integer. We can't use float or other types, this will result into **TypeError**.\n",
        "\n",
        "Python **allows negative indexing** for its sequences."
      ],
      "metadata": {
        "id": "W9Jr4bjOFnXd"
      }
    },
    {
      "cell_type": "code",
      "source": [
        "myString =\"Hello\"   #0,1,2,3,4,'\\n'\n",
        "\n",
        "print(myString[0])       #first character\n",
        "print(myString[-1])      #last character  - negative indexing\n",
        "print(myString[2:4])     #2nd to end character - slicing\n",
        "print(myString[2:5])     # end+1\n",
        "print(myString[2:7])     # :)"
      ],
      "metadata": {
        "colab": {
          "base_uri": "https://localhost:8080/"
        },
        "id": "BSBzXfJjFgHy",
        "outputId": "79d229c0-e675-485a-fdf1-fa7587c0fcaa"
      },
      "execution_count": null,
      "outputs": [
        {
          "output_type": "stream",
          "name": "stdout",
          "text": [
            "H\n",
            "o\n",
            "ll\n",
            "llo\n",
            "llo\n"
          ]
        }
      ]
    },
    {
      "cell_type": "markdown",
      "source": [
        "error when index out of range or decimal indexing"
      ],
      "metadata": {
        "id": "4qEWu4vzJfCh"
      }
    },
    {
      "cell_type": "code",
      "source": [
        "print(myString[15])"
      ],
      "metadata": {
        "colab": {
          "base_uri": "https://localhost:8080/",
          "height": 141
        },
        "id": "yj8XK_apHxj9",
        "outputId": "a82ce645-a754-4a22-fafe-82c68c4b9ae4"
      },
      "execution_count": null,
      "outputs": [
        {
          "output_type": "error",
          "ename": "IndexError",
          "evalue": "string index out of range",
          "traceback": [
            "\u001b[0;31m---------------------------------------------------------------------------\u001b[0m",
            "\u001b[0;31mIndexError\u001b[0m                                Traceback (most recent call last)",
            "\u001b[0;32m/tmp/ipython-input-8-1532349495.py\u001b[0m in \u001b[0;36m<cell line: 0>\u001b[0;34m()\u001b[0m\n\u001b[0;32m----> 1\u001b[0;31m \u001b[0mprint\u001b[0m\u001b[0;34m(\u001b[0m\u001b[0mmyString\u001b[0m\u001b[0;34m[\u001b[0m\u001b[0;36m15\u001b[0m\u001b[0;34m]\u001b[0m\u001b[0;34m)\u001b[0m\u001b[0;34m\u001b[0m\u001b[0;34m\u001b[0m\u001b[0m\n\u001b[0m",
            "\u001b[0;31mIndexError\u001b[0m: string index out of range"
          ]
        }
      ]
    },
    {
      "cell_type": "code",
      "source": [
        "print(myString[1.5])"
      ],
      "metadata": {
        "colab": {
          "base_uri": "https://localhost:8080/",
          "height": 141
        },
        "id": "GCf0uXWCIsLB",
        "outputId": "633c8382-3324-47c0-dd20-e23629f4a4d6"
      },
      "execution_count": null,
      "outputs": [
        {
          "output_type": "error",
          "ename": "TypeError",
          "evalue": "string indices must be integers, not 'float'",
          "traceback": [
            "\u001b[0;31m---------------------------------------------------------------------------\u001b[0m",
            "\u001b[0;31mTypeError\u001b[0m                                 Traceback (most recent call last)",
            "\u001b[0;32m/tmp/ipython-input-9-1193294109.py\u001b[0m in \u001b[0;36m<cell line: 0>\u001b[0;34m()\u001b[0m\n\u001b[0;32m----> 1\u001b[0;31m \u001b[0mprint\u001b[0m\u001b[0;34m(\u001b[0m\u001b[0mmyString\u001b[0m\u001b[0;34m[\u001b[0m\u001b[0;36m1.5\u001b[0m\u001b[0;34m]\u001b[0m\u001b[0;34m)\u001b[0m\u001b[0;34m\u001b[0m\u001b[0;34m\u001b[0m\u001b[0m\n\u001b[0m",
            "\u001b[0;31mTypeError\u001b[0m: string indices must be integers, not 'float'"
          ]
        }
      ]
    },
    {
      "cell_type": "markdown",
      "source": [
        "## How to change or delete a string?\n",
        "\n",
        "Strings are **immutable**. Elements of a string cannot be changed once it has been assigned.\n",
        "\n",
        "we can simply reassign different strings to the same name."
      ],
      "metadata": {
        "id": "viK0nfToMIgV"
      }
    },
    {
      "cell_type": "code",
      "source": [
        "myString =\"Hello\"\n",
        "myString[4] ='s'"
      ],
      "metadata": {
        "colab": {
          "base_uri": "https://localhost:8080/",
          "height": 159
        },
        "id": "-c-QeWJ7IvBA",
        "outputId": "82b0abeb-bb78-478e-8b7b-f8da17a4106d"
      },
      "execution_count": null,
      "outputs": [
        {
          "output_type": "error",
          "ename": "TypeError",
          "evalue": "'str' object does not support item assignment",
          "traceback": [
            "\u001b[0;31m---------------------------------------------------------------------------\u001b[0m",
            "\u001b[0;31mTypeError\u001b[0m                                 Traceback (most recent call last)",
            "\u001b[0;32m/tmp/ipython-input-10-2386072553.py\u001b[0m in \u001b[0;36m<cell line: 0>\u001b[0;34m()\u001b[0m\n\u001b[1;32m      1\u001b[0m \u001b[0mmyString\u001b[0m \u001b[0;34m=\u001b[0m\u001b[0;34m\"Hello\"\u001b[0m\u001b[0;34m\u001b[0m\u001b[0;34m\u001b[0m\u001b[0m\n\u001b[0;32m----> 2\u001b[0;31m \u001b[0mmyString\u001b[0m\u001b[0;34m[\u001b[0m\u001b[0;36m4\u001b[0m\u001b[0;34m]\u001b[0m \u001b[0;34m=\u001b[0m\u001b[0;34m's'\u001b[0m\u001b[0;34m\u001b[0m\u001b[0;34m\u001b[0m\u001b[0m\n\u001b[0m",
            "\u001b[0;31mTypeError\u001b[0m: 'str' object does not support item assignment"
          ]
        }
      ]
    },
    {
      "cell_type": "markdown",
      "source": [
        "we cannot delete or remove characters from a string. But deleting the string entirely is possible using the keyword del."
      ],
      "metadata": {
        "id": "NVVGxtBbNuKa"
      }
    },
    {
      "cell_type": "code",
      "source": [
        "del myString  #delete complete string"
      ],
      "metadata": {
        "id": "RhMrR5P1M1B2"
      },
      "execution_count": null,
      "outputs": []
    },
    {
      "cell_type": "code",
      "source": [
        "print(myString)"
      ],
      "metadata": {
        "colab": {
          "base_uri": "https://localhost:8080/",
          "height": 141
        },
        "id": "Fwx4lFUyNOuQ",
        "outputId": "83c52aa2-ef10-4f8e-a48b-a2945869b3e6"
      },
      "execution_count": null,
      "outputs": [
        {
          "output_type": "error",
          "ename": "NameError",
          "evalue": "name 'myString' is not defined",
          "traceback": [
            "\u001b[0;31m---------------------------------------------------------------------------\u001b[0m",
            "\u001b[0;31mNameError\u001b[0m                                 Traceback (most recent call last)",
            "\u001b[0;32m/tmp/ipython-input-12-3841254150.py\u001b[0m in \u001b[0;36m<cell line: 0>\u001b[0;34m()\u001b[0m\n\u001b[0;32m----> 1\u001b[0;31m \u001b[0mprint\u001b[0m\u001b[0;34m(\u001b[0m\u001b[0mmyString\u001b[0m\u001b[0;34m)\u001b[0m\u001b[0;34m\u001b[0m\u001b[0;34m\u001b[0m\u001b[0m\n\u001b[0m",
            "\u001b[0;31mNameError\u001b[0m: name 'myString' is not defined"
          ]
        }
      ]
    },
    {
      "cell_type": "markdown",
      "source": [
        "## String Operations\n",
        "\n",
        "## Concatenation\n",
        "\n",
        "Joining of two or more strings into a single one is called concatenation.\n",
        "\n",
        "The + operator does this in Python. Simply writing two string literals together also concatenates them.\n",
        "\n",
        "The * operator can be used to repeat the string for a given number of times."
      ],
      "metadata": {
        "id": "3ehMq5-uOvwd"
      }
    },
    {
      "cell_type": "code",
      "source": [
        "s1 = \"Hello\"\n",
        "s2 = \"Satish\"\n",
        "\n",
        "print(s1 + s2)\n",
        "print(s1 * 3)\n",
        "\n",
        "s1 = \"Hello \"\n",
        "print(s1 * 3)"
      ],
      "metadata": {
        "colab": {
          "base_uri": "https://localhost:8080/"
        },
        "id": "6_bUoBe9NRU5",
        "outputId": "b59d9146-44c2-4c36-80ed-bbef4432757e"
      },
      "execution_count": null,
      "outputs": [
        {
          "output_type": "stream",
          "name": "stdout",
          "text": [
            "HelloSatish\n",
            "HelloHelloHello\n",
            "Hello Hello Hello \n"
          ]
        }
      ]
    },
    {
      "cell_type": "markdown",
      "source": [
        "## Iterating through String"
      ],
      "metadata": {
        "id": "u9-Nqy3JVplv"
      }
    },
    {
      "cell_type": "code",
      "source": [
        "s1 = \"Hello AI\"\n",
        "for char in s1:\n",
        "    print(char)"
      ],
      "metadata": {
        "colab": {
          "base_uri": "https://localhost:8080/"
        },
        "id": "7dVKFVaeWB_b",
        "outputId": "c0dea208-7c65-43fd-b250-6050dea3d6a8"
      },
      "execution_count": null,
      "outputs": [
        {
          "output_type": "stream",
          "name": "stdout",
          "text": [
            "H\n",
            "e\n",
            "l\n",
            "l\n",
            "o\n",
            " \n",
            "A\n",
            "I\n"
          ]
        }
      ]
    },
    {
      "cell_type": "code",
      "source": [
        "s1 = \"Hello AI\"\n",
        "\n",
        "for char in s1:\n",
        "    print(char, end='')\n"
      ],
      "metadata": {
        "colab": {
          "base_uri": "https://localhost:8080/"
        },
        "id": "-8vctuQ4XA8q",
        "outputId": "8f4258b5-317c-4752-8b4e-1ed749f721f8"
      },
      "execution_count": null,
      "outputs": [
        {
          "output_type": "stream",
          "name": "stdout",
          "text": [
            "Hello AI"
          ]
        }
      ]
    },
    {
      "cell_type": "code",
      "source": [
        "count = 0\n",
        "for i in \"Hello World\":\n",
        "  if i ==\"o\":\n",
        "    count+=1\n",
        "\n",
        "print(count)"
      ],
      "metadata": {
        "colab": {
          "base_uri": "https://localhost:8080/"
        },
        "id": "ucFWBp0TQYpD",
        "outputId": "51d2b248-2655-43ae-9c11-45220c993765"
      },
      "execution_count": null,
      "outputs": [
        {
          "output_type": "stream",
          "name": "stdout",
          "text": [
            "2\n"
          ]
        }
      ]
    },
    {
      "cell_type": "markdown",
      "source": [
        "## String Membership Test"
      ],
      "metadata": {
        "id": "XccinClFd4zd"
      }
    },
    {
      "cell_type": "code",
      "source": [
        "print('l' in 'Hello World')  # in operator"
      ],
      "metadata": {
        "colab": {
          "base_uri": "https://localhost:8080/"
        },
        "id": "rQdzAgojV99R",
        "outputId": "310c5476-e28f-470d-9548-285d465ca300"
      },
      "execution_count": null,
      "outputs": [
        {
          "output_type": "stream",
          "name": "stdout",
          "text": [
            "True\n"
          ]
        }
      ]
    },
    {
      "cell_type": "code",
      "source": [
        "print('or' in 'Hello World')"
      ],
      "metadata": {
        "colab": {
          "base_uri": "https://localhost:8080/"
        },
        "id": "LHkTFxpTGn0a",
        "outputId": "64c593bf-dff6-4b98-cc6b-0da2d233d9a3"
      },
      "execution_count": null,
      "outputs": [
        {
          "output_type": "stream",
          "name": "stdout",
          "text": [
            "True\n"
          ]
        }
      ]
    },
    {
      "cell_type": "markdown",
      "source": [
        "## String Methods\n",
        "\n",
        "Some of the commonly used methods are lower(), upper(), join(), split(), find(), replace(), etc"
      ],
      "metadata": {
        "id": "Fb5pxVEjHEQ3"
      }
    },
    {
      "cell_type": "code",
      "source": [
        "\"hello\".lower()"
      ],
      "metadata": {
        "colab": {
          "base_uri": "https://localhost:8080/",
          "height": 35
        },
        "id": "lsvazn6pG38R",
        "outputId": "0ef6c3c8-02be-4ff7-9e07-f64940c8839a"
      },
      "execution_count": null,
      "outputs": [
        {
          "output_type": "execute_result",
          "data": {
            "text/plain": [
              "'hello'"
            ],
            "application/vnd.google.colaboratory.intrinsic+json": {
              "type": "string"
            }
          },
          "metadata": {},
          "execution_count": 19
        }
      ]
    },
    {
      "cell_type": "code",
      "source": [
        "\"Hello\".upper()"
      ],
      "metadata": {
        "colab": {
          "base_uri": "https://localhost:8080/",
          "height": 35
        },
        "id": "gBmvPDv9HZ23",
        "outputId": "daa3d49f-6acf-483e-8bb5-d3b4a782312d"
      },
      "execution_count": null,
      "outputs": [
        {
          "output_type": "execute_result",
          "data": {
            "text/plain": [
              "'HELLO'"
            ],
            "application/vnd.google.colaboratory.intrinsic+json": {
              "type": "string"
            }
          },
          "metadata": {},
          "execution_count": 20
        }
      ]
    },
    {
      "cell_type": "code",
      "source": [
        "\"This will split all, words in a list\".split()"
      ],
      "metadata": {
        "colab": {
          "base_uri": "https://localhost:8080/"
        },
        "id": "jxr2gzF2Hcsg",
        "outputId": "2c9b176d-006c-40c8-ffa0-e97a139e8784"
      },
      "execution_count": null,
      "outputs": [
        {
          "output_type": "execute_result",
          "data": {
            "text/plain": [
              "['This', 'will', 'split', 'all,', 'words', 'in', 'a', 'list']"
            ]
          },
          "metadata": {},
          "execution_count": 21
        }
      ]
    },
    {
      "cell_type": "code",
      "source": [
        "\"This will split all, words in a list\".split(',')    #can specify separater"
      ],
      "metadata": {
        "id": "A5toFnAEItes",
        "colab": {
          "base_uri": "https://localhost:8080/"
        },
        "outputId": "62e9dfff-811a-4612-bd86-fdf68c5a2895"
      },
      "execution_count": null,
      "outputs": [
        {
          "output_type": "execute_result",
          "data": {
            "text/plain": [
              "['This will split all', ' words in a list']"
            ]
          },
          "metadata": {},
          "execution_count": 22
        }
      ]
    },
    {
      "cell_type": "code",
      "source": [
        "' '.join(['This', 'will', 'join', 'all', 'words', 'in', 'a', 'sentence'])"
      ],
      "metadata": {
        "colab": {
          "base_uri": "https://localhost:8080/",
          "height": 35
        },
        "id": "AqhMD7lRHinD",
        "outputId": "d7c8f1fa-1f6b-491f-a9d7-3fabe751d912"
      },
      "execution_count": null,
      "outputs": [
        {
          "output_type": "execute_result",
          "data": {
            "text/plain": [
              "'This will join all words in a sentence'"
            ],
            "application/vnd.google.colaboratory.intrinsic+json": {
              "type": "string"
            }
          },
          "metadata": {},
          "execution_count": 23
        }
      ]
    },
    {
      "cell_type": "code",
      "source": [
        "'_'.join(['This', 'will', 'join', 'all', 'words', 'in', 'a', 'sentence'])   # can specify joiner"
      ],
      "metadata": {
        "colab": {
          "base_uri": "https://localhost:8080/",
          "height": 35
        },
        "id": "-QwqfgcWH42G",
        "outputId": "cac14559-9de3-4fec-e539-4eeed7da5eed"
      },
      "execution_count": null,
      "outputs": [
        {
          "output_type": "execute_result",
          "data": {
            "text/plain": [
              "'This_will_join_all_words_in_a_sentence'"
            ],
            "application/vnd.google.colaboratory.intrinsic+json": {
              "type": "string"
            }
          },
          "metadata": {},
          "execution_count": 24
        }
      ]
    },
    {
      "cell_type": "code",
      "source": [
        "\"Good Morning\".find(\"Mo\")   # considered space and strings starts indexing from 0"
      ],
      "metadata": {
        "colab": {
          "base_uri": "https://localhost:8080/"
        },
        "id": "h31AEUKGIB0v",
        "outputId": "942ccbee-cd0c-4f55-9bdc-31b69e201fe9"
      },
      "execution_count": null,
      "outputs": [
        {
          "output_type": "execute_result",
          "data": {
            "text/plain": [
              "5"
            ]
          },
          "metadata": {},
          "execution_count": 25
        }
      ]
    },
    {
      "cell_type": "code",
      "source": [
        "\"GoodMorning\".find(\"Mo\")"
      ],
      "metadata": {
        "colab": {
          "base_uri": "https://localhost:8080/"
        },
        "id": "SEZNuhIlJEli",
        "outputId": "b7e7962f-b43a-4a97-9644-bde8f402773d"
      },
      "execution_count": null,
      "outputs": [
        {
          "output_type": "execute_result",
          "data": {
            "text/plain": [
              "4"
            ]
          },
          "metadata": {},
          "execution_count": 26
        }
      ]
    },
    {
      "cell_type": "code",
      "source": [
        "\"Bad Morning\".replace(\"Bad\", \"Good\")"
      ],
      "metadata": {
        "colab": {
          "base_uri": "https://localhost:8080/",
          "height": 35
        },
        "id": "o3P7WNbPJcF2",
        "outputId": "54e98fd9-c758-4821-dc6f-6989a8a6e92c"
      },
      "execution_count": null,
      "outputs": [
        {
          "output_type": "execute_result",
          "data": {
            "text/plain": [
              "'Good Morning'"
            ],
            "application/vnd.google.colaboratory.intrinsic+json": {
              "type": "string"
            }
          },
          "metadata": {},
          "execution_count": 27
        }
      ]
    },
    {
      "cell_type": "code",
      "source": [
        "s1 = \"Bad Morning\"\n",
        "s2 = s1.replace(\"Bad\", \"Good\")   #strings are immutable\n",
        "print(s1)\n",
        "print(s2)"
      ],
      "metadata": {
        "id": "LY4tFlqQJi7c",
        "colab": {
          "base_uri": "https://localhost:8080/"
        },
        "outputId": "45b499c9-477c-4872-aa2f-62866c485970"
      },
      "execution_count": null,
      "outputs": [
        {
          "output_type": "stream",
          "name": "stdout",
          "text": [
            "Bad Morning\n",
            "Good Morning\n"
          ]
        }
      ]
    },
    {
      "cell_type": "markdown",
      "source": [
        "## Python Program to Check where a string is Palindrome or not ?"
      ],
      "metadata": {
        "id": "Um8xVFx5yWLX"
      }
    },
    {
      "cell_type": "code",
      "source": [
        "s1 = \"MadaM\"\n",
        "\n",
        "s1 = s1.lower()                 #madam\n",
        "\n",
        "rev_s1 = reversed(s1)           #madam\n",
        "\n",
        "if list(s1) == list(rev_s1):    #['m','a','d','a','m']\n",
        "    print(\"Palindrome\")\n",
        "else:\n",
        "    print(\"Not Palindrome\")"
      ],
      "metadata": {
        "colab": {
          "base_uri": "https://localhost:8080/"
        },
        "id": "G5jRUnnhwwAr",
        "outputId": "a4b80c5f-6ec3-4b66-fe7c-7058c0f0d8fd"
      },
      "execution_count": null,
      "outputs": [
        {
          "output_type": "stream",
          "name": "stdout",
          "text": [
            "Palindrome\n"
          ]
        }
      ]
    },
    {
      "cell_type": "markdown",
      "source": [
        "## Python Program to Sort Words in Alphabetic Order?"
      ],
      "metadata": {
        "id": "GzoVKSC33UYs"
      }
    },
    {
      "cell_type": "code",
      "source": [
        "s1 = \"Python Program to Sort words in Alphabetic Order\"\n",
        "\n",
        "words = s1.split()    #generates a list\n",
        "words.sort()\n",
        "\n",
        "for i in words:\n",
        "    print(i)"
      ],
      "metadata": {
        "colab": {
          "base_uri": "https://localhost:8080/"
        },
        "id": "VZdJTRjQy0k5",
        "outputId": "3d28ac6e-135c-429c-de66-1365f979d6a5"
      },
      "execution_count": null,
      "outputs": [
        {
          "output_type": "stream",
          "name": "stdout",
          "text": [
            "Alphabetic\n",
            "Order\n",
            "Program\n",
            "Python\n",
            "Sort\n",
            "in\n",
            "to\n",
            "words\n"
          ]
        }
      ]
    },
    {
      "cell_type": "markdown",
      "source": [
        "# Sets"
      ],
      "metadata": {
        "id": "mdZk83Ij7M6k"
      }
    },
    {
      "cell_type": "markdown",
      "source": [
        "A set is an unordered collection of items. Every element is unique (**No duplicates**)\n",
        "\n",
        "The set itself is **mutable**. we can add or remove items from it.\n",
        "\n",
        "Sets can be used to perform mathematical set operations like union, intersection, symmetric difference etc."
      ],
      "metadata": {
        "id": "Y7Ud00a_7RJ8"
      }
    },
    {
      "cell_type": "markdown",
      "source": [
        "## Set Creattion"
      ],
      "metadata": {
        "id": "UD7Tkrxu9GRu"
      }
    },
    {
      "cell_type": "code",
      "source": [
        "# set of integers\n",
        "s = {1,2,3}\n",
        "print(s)\n",
        "\n",
        "print(type(s))"
      ],
      "metadata": {
        "colab": {
          "base_uri": "https://localhost:8080/"
        },
        "id": "RQy3valw3nHj",
        "outputId": "f1e3a15c-4325-4f7b-cc98-60e819660f99"
      },
      "execution_count": null,
      "outputs": [
        {
          "output_type": "stream",
          "name": "stdout",
          "text": [
            "{1, 2, 3}\n",
            "<class 'set'>\n"
          ]
        }
      ]
    },
    {
      "cell_type": "code",
      "source": [
        "s = {1, 2, 3, 1, 4}           # no duplicates\n",
        "print(s)"
      ],
      "metadata": {
        "colab": {
          "base_uri": "https://localhost:8080/"
        },
        "id": "NZtyPbPV9h5I",
        "outputId": "abc203b5-5df0-40af-ef57-bbbd390fc9fb"
      },
      "execution_count": null,
      "outputs": [
        {
          "output_type": "stream",
          "name": "stdout",
          "text": [
            "{1, 2, 3, 4}\n"
          ]
        }
      ]
    },
    {
      "cell_type": "code",
      "source": [
        "a = set([1, 2, 3, 1, 4])    # we can make set from a list\n",
        "print(a)\n",
        "\n",
        "print(type(a))"
      ],
      "metadata": {
        "colab": {
          "base_uri": "https://localhost:8080/"
        },
        "id": "EyFOwYG2DG4b",
        "outputId": "06fc44c8-e273-4a55-decd-b2b89d7fd45c"
      },
      "execution_count": null,
      "outputs": [
        {
          "output_type": "stream",
          "name": "stdout",
          "text": [
            "{1, 2, 3, 4}\n",
            "<class 'set'>\n"
          ]
        }
      ]
    },
    {
      "cell_type": "code",
      "source": [
        "s = {1, 3}\n",
        "\n",
        "print(s[1])               # set object doesn't support indexing"
      ],
      "metadata": {
        "colab": {
          "base_uri": "https://localhost:8080/",
          "height": 176
        },
        "id": "xvVr2KJUHIZa",
        "outputId": "064f20bd-b94d-43b3-a6f8-70d5da314b29"
      },
      "execution_count": null,
      "outputs": [
        {
          "output_type": "error",
          "ename": "TypeError",
          "evalue": "'set' object is not subscriptable",
          "traceback": [
            "\u001b[0;31m---------------------------------------------------------------------------\u001b[0m",
            "\u001b[0;31mTypeError\u001b[0m                                 Traceback (most recent call last)",
            "\u001b[0;32m/tmp/ipython-input-38-3046235789.py\u001b[0m in \u001b[0;36m<cell line: 0>\u001b[0;34m()\u001b[0m\n\u001b[1;32m      1\u001b[0m \u001b[0ms\u001b[0m \u001b[0;34m=\u001b[0m \u001b[0;34m{\u001b[0m\u001b[0;36m1\u001b[0m\u001b[0;34m,\u001b[0m \u001b[0;36m3\u001b[0m\u001b[0;34m}\u001b[0m\u001b[0;34m\u001b[0m\u001b[0;34m\u001b[0m\u001b[0m\n\u001b[1;32m      2\u001b[0m \u001b[0;34m\u001b[0m\u001b[0m\n\u001b[0;32m----> 3\u001b[0;31m \u001b[0mprint\u001b[0m\u001b[0;34m(\u001b[0m\u001b[0ms\u001b[0m\u001b[0;34m[\u001b[0m\u001b[0;36m1\u001b[0m\u001b[0;34m]\u001b[0m\u001b[0;34m)\u001b[0m\u001b[0;34m\u001b[0m\u001b[0;34m\u001b[0m\u001b[0m\n\u001b[0m",
            "\u001b[0;31mTypeError\u001b[0m: 'set' object is not subscriptable"
          ]
        }
      ]
    },
    {
      "cell_type": "markdown",
      "source": [
        "## Add elements to a set\n",
        "\n",
        "we can add single element using add() method and add multiple elements using update() method"
      ],
      "metadata": {
        "id": "Q4rIEyDYMglh"
      }
    },
    {
      "cell_type": "code",
      "source": [
        "a = {1, 3}\n",
        "\n",
        "a.add(2)\n",
        "print(a)"
      ],
      "metadata": {
        "colab": {
          "base_uri": "https://localhost:8080/"
        },
        "id": "-FUMwSshLOqk",
        "outputId": "57e5e2fa-9686-48b5-ab3e-7c07c6bada14"
      },
      "execution_count": null,
      "outputs": [
        {
          "output_type": "stream",
          "name": "stdout",
          "text": [
            "{1, 2, 3}\n"
          ]
        }
      ]
    },
    {
      "cell_type": "code",
      "source": [
        "a.update([5, 6, 1])           # we can add list to a set\n",
        "print(a)                      # duplicates didn't add"
      ],
      "metadata": {
        "colab": {
          "base_uri": "https://localhost:8080/"
        },
        "id": "wvy2DeplRqai",
        "outputId": "64d5e1d1-9df3-45f8-94bb-d0453292c394"
      },
      "execution_count": null,
      "outputs": [
        {
          "output_type": "stream",
          "name": "stdout",
          "text": [
            "{1, 2, 3, 5, 6}\n"
          ]
        }
      ]
    },
    {
      "cell_type": "code",
      "source": [
        "# add list and set\n",
        "a.update([8, 9], {10, 2, 3})\n",
        "\n",
        "print(a)"
      ],
      "metadata": {
        "colab": {
          "base_uri": "https://localhost:8080/"
        },
        "id": "6WCwpM4NTEoV",
        "outputId": "07b069ba-6b7c-4f6c-fc91-28de334204d2"
      },
      "execution_count": null,
      "outputs": [
        {
          "output_type": "stream",
          "name": "stdout",
          "text": [
            "{1, 2, 3, 5, 6, 8, 9, 10}\n"
          ]
        }
      ]
    },
    {
      "cell_type": "markdown",
      "source": [
        "## Remove elements from a Set\n",
        "\n",
        "A particular item can be removed from set using methods discard() and remove()"
      ],
      "metadata": {
        "id": "DJHx3AgwaD8o"
      }
    },
    {
      "cell_type": "code",
      "source": [
        "a = {1, 2, 3, 5, 4}\n",
        "print(a)\n",
        "\n",
        "a.discard(4)\n",
        "print(a)\n",
        "\n",
        "a.remove(2)\n",
        "print(a)"
      ],
      "metadata": {
        "colab": {
          "base_uri": "https://localhost:8080/"
        },
        "id": "SNdZSJBNW-JC",
        "outputId": "0b90a7cd-69db-42e1-b0a6-ca2f75103505"
      },
      "execution_count": null,
      "outputs": [
        {
          "output_type": "stream",
          "name": "stdout",
          "text": [
            "{1, 2, 3, 4, 5}\n",
            "{1, 2, 3, 5}\n",
            "{1, 3, 5}\n"
          ]
        }
      ]
    },
    {
      "cell_type": "code",
      "source": [
        "a.discard(6)\n",
        "print(a)"
      ],
      "metadata": {
        "colab": {
          "base_uri": "https://localhost:8080/"
        },
        "id": "yPPwf5Tiez_N",
        "outputId": "f59ad187-de0e-47ad-fd4f-cf998a4f983b"
      },
      "execution_count": null,
      "outputs": [
        {
          "output_type": "stream",
          "name": "stdout",
          "text": [
            "{1, 3, 5}\n"
          ]
        }
      ]
    },
    {
      "cell_type": "code",
      "source": [
        "a.remove(6)\n",
        "print(a)"
      ],
      "metadata": {
        "colab": {
          "base_uri": "https://localhost:8080/",
          "height": 159
        },
        "id": "TLlpxReJaoKt",
        "outputId": "af9964c3-54ef-48de-df6e-893e3739b31c"
      },
      "execution_count": null,
      "outputs": [
        {
          "output_type": "error",
          "ename": "KeyError",
          "evalue": "6",
          "traceback": [
            "\u001b[0;31m---------------------------------------------------------------------------\u001b[0m",
            "\u001b[0;31mKeyError\u001b[0m                                  Traceback (most recent call last)",
            "\u001b[0;32m/tmp/ipython-input-52-1580234181.py\u001b[0m in \u001b[0;36m<cell line: 0>\u001b[0;34m()\u001b[0m\n\u001b[0;32m----> 1\u001b[0;31m \u001b[0ma\u001b[0m\u001b[0;34m.\u001b[0m\u001b[0mremove\u001b[0m\u001b[0;34m(\u001b[0m\u001b[0;36m6\u001b[0m\u001b[0;34m)\u001b[0m\u001b[0;34m\u001b[0m\u001b[0;34m\u001b[0m\u001b[0m\n\u001b[0m\u001b[1;32m      2\u001b[0m \u001b[0mprint\u001b[0m\u001b[0;34m(\u001b[0m\u001b[0ma\u001b[0m\u001b[0;34m)\u001b[0m\u001b[0;34m\u001b[0m\u001b[0;34m\u001b[0m\u001b[0m\n",
            "\u001b[0;31mKeyError\u001b[0m: 6"
          ]
        }
      ]
    },
    {
      "cell_type": "markdown",
      "source": [
        "we can remove item using pop() method  - removes random element"
      ],
      "metadata": {
        "id": "7tV46CUfhsV2"
      }
    },
    {
      "cell_type": "code",
      "source": [
        "s = {1, 2, 3, 5, 4}\n",
        "\n",
        "s.pop()\n",
        "\n",
        "print(s)"
      ],
      "metadata": {
        "colab": {
          "base_uri": "https://localhost:8080/"
        },
        "id": "9oPLpSFYarwX",
        "outputId": "ecd06eb6-b0ad-4cb2-9142-800f256d5442"
      },
      "execution_count": null,
      "outputs": [
        {
          "output_type": "stream",
          "name": "stdout",
          "text": [
            "{2, 3, 4, 5}\n"
          ]
        }
      ]
    },
    {
      "cell_type": "code",
      "source": [
        "s.pop()\n",
        "print(s)"
      ],
      "metadata": {
        "colab": {
          "base_uri": "https://localhost:8080/"
        },
        "id": "KGZc3VOti45g",
        "outputId": "8b06a524-930b-4e66-8c09-a4219fdb266f"
      },
      "execution_count": null,
      "outputs": [
        {
          "output_type": "stream",
          "name": "stdout",
          "text": [
            "{4, 5}\n"
          ]
        }
      ]
    },
    {
      "cell_type": "code",
      "source": [
        "s.pop()\n",
        "print(s)"
      ],
      "metadata": {
        "colab": {
          "base_uri": "https://localhost:8080/"
        },
        "id": "0A4FR6S3jATf",
        "outputId": "959276ee-6779-4925-ec38-3c9a180f3e4b"
      },
      "execution_count": null,
      "outputs": [
        {
          "output_type": "stream",
          "name": "stdout",
          "text": [
            "{5}\n"
          ]
        }
      ]
    },
    {
      "cell_type": "markdown",
      "source": [
        "Remove all items in set using clear() method"
      ],
      "metadata": {
        "id": "wqW1sJmbjUV-"
      }
    },
    {
      "cell_type": "code",
      "source": [
        "s = {1, 2, 3, 5, 4}\n",
        "\n",
        "s.clear()\n",
        "print(s)"
      ],
      "metadata": {
        "colab": {
          "base_uri": "https://localhost:8080/"
        },
        "id": "UIWS4_zujG3c",
        "outputId": "b5ce8bbd-ccab-411c-93ea-5d854d443896"
      },
      "execution_count": null,
      "outputs": [
        {
          "output_type": "stream",
          "name": "stdout",
          "text": [
            "set()\n"
          ]
        }
      ]
    },
    {
      "cell_type": "markdown",
      "source": [
        "## Python Set Operations"
      ],
      "metadata": {
        "id": "BhufUi8ekD-0"
      }
    },
    {
      "cell_type": "code",
      "source": [
        "set1 = {1, 2, 3, 4, 5}\n",
        "set2 = {3, 4, 5, 6, 7}\n",
        "\n",
        "#Union of 2 sets using | operator\n",
        "\n",
        "print(set1 | set2)"
      ],
      "metadata": {
        "colab": {
          "base_uri": "https://localhost:8080/"
        },
        "id": "OFeBNjedj978",
        "outputId": "f1dad00c-6045-49b4-9f23-4a45ae356616"
      },
      "execution_count": null,
      "outputs": [
        {
          "output_type": "stream",
          "name": "stdout",
          "text": [
            "{1, 2, 3, 4, 5, 6, 7}\n"
          ]
        }
      ]
    },
    {
      "cell_type": "code",
      "source": [
        "# another way of getting union of 2 sets\n",
        "print(set1.union(set2))"
      ],
      "metadata": {
        "colab": {
          "base_uri": "https://localhost:8080/"
        },
        "id": "7zUXZZjpmGAU",
        "outputId": "9a7e531e-5133-451e-c0bc-61b247f76d0a"
      },
      "execution_count": null,
      "outputs": [
        {
          "output_type": "stream",
          "name": "stdout",
          "text": [
            "{1, 2, 3, 4, 5, 6, 7}\n"
          ]
        }
      ]
    },
    {
      "cell_type": "code",
      "source": [
        "# intersection of 2 sets using & operator\n",
        "print(set1 & set2)"
      ],
      "metadata": {
        "colab": {
          "base_uri": "https://localhost:8080/"
        },
        "id": "TUBjHlhpm1m1",
        "outputId": "fbdb7b93-4f34-41c3-eb8a-2013cc7d06a1"
      },
      "execution_count": null,
      "outputs": [
        {
          "output_type": "stream",
          "name": "stdout",
          "text": [
            "{3, 4, 5}\n"
          ]
        }
      ]
    },
    {
      "cell_type": "code",
      "source": [
        "# use intersection function\n",
        "print(set1.intersection(set2))"
      ],
      "metadata": {
        "colab": {
          "base_uri": "https://localhost:8080/"
        },
        "id": "o2EcQLvz0yyk",
        "outputId": "4aea63d9-68f2-4af5-e123-2c2f29accfb4"
      },
      "execution_count": null,
      "outputs": [
        {
          "output_type": "stream",
          "name": "stdout",
          "text": [
            "{3, 4, 5}\n"
          ]
        }
      ]
    },
    {
      "cell_type": "code",
      "source": [
        "# set Differences: set of elements that are only in set1 but not in set2\n",
        "\n",
        "print(set1 - set2)"
      ],
      "metadata": {
        "colab": {
          "base_uri": "https://localhost:8080/"
        },
        "id": "RRcIEEtS1SzG",
        "outputId": "281e2dd6-1685-4eb5-ae97-fc1d4c5a55a8"
      },
      "execution_count": null,
      "outputs": [
        {
          "output_type": "stream",
          "name": "stdout",
          "text": [
            "{1, 2}\n"
          ]
        }
      ]
    },
    {
      "cell_type": "code",
      "source": [
        "# use difference function\n",
        "\n",
        "print(set1.difference(set2))"
      ],
      "metadata": {
        "colab": {
          "base_uri": "https://localhost:8080/"
        },
        "id": "oXbO8LfO1zjX",
        "outputId": "7abf8743-d4ef-4efd-f32b-15242223bd4c"
      },
      "execution_count": null,
      "outputs": [
        {
          "output_type": "stream",
          "name": "stdout",
          "text": [
            "{1, 2}\n"
          ]
        }
      ]
    },
    {
      "cell_type": "code",
      "source": [
        "# symmetric difference: set of elements in both set1 and set2\n",
        "# except those that are common in both\n",
        "# use ^ operator\n",
        "# (AuB) - (AnB)\n",
        "\n",
        "print(set1^set2)"
      ],
      "metadata": {
        "colab": {
          "base_uri": "https://localhost:8080/"
        },
        "id": "TrzaTekn1-0i",
        "outputId": "6e518fc5-1c43-44f2-ac46-50f567359d8f"
      },
      "execution_count": null,
      "outputs": [
        {
          "output_type": "stream",
          "name": "stdout",
          "text": [
            "{1, 2, 6, 7}\n"
          ]
        }
      ]
    },
    {
      "cell_type": "code",
      "source": [
        "# use symmetric_difference function\n",
        "\n",
        "print(set1.symmetric_difference(set2))"
      ],
      "metadata": {
        "colab": {
          "base_uri": "https://localhost:8080/"
        },
        "id": "FENFbL2c2uE3",
        "outputId": "fab56ae0-5eee-47d4-b96b-ed65d16dd6c3"
      },
      "execution_count": null,
      "outputs": [
        {
          "output_type": "stream",
          "name": "stdout",
          "text": [
            "{1, 2, 6, 7}\n"
          ]
        }
      ]
    },
    {
      "cell_type": "code",
      "source": [
        "# find issubset()\n",
        "\n",
        "x = {'a','b','c','d','e'}\n",
        "y = {'c','d'}\n",
        "\n",
        "print('set x is subset of y:', x.issubset(y))\n",
        "print('set y is subset of x:', y.issubset(x))"
      ],
      "metadata": {
        "colab": {
          "base_uri": "https://localhost:8080/"
        },
        "id": "j_Lz5IXU3xqf",
        "outputId": "8591fd5f-1a74-4e01-e900-f1130d5bca14"
      },
      "execution_count": null,
      "outputs": [
        {
          "output_type": "stream",
          "name": "stdout",
          "text": [
            "set x is subset of y: False\n",
            "set y is subset of x: True\n"
          ]
        }
      ]
    },
    {
      "cell_type": "markdown",
      "source": [
        "## Frozen Sets\n",
        "\n",
        "Frozen sets has the characteristics of sets, but we can't be changed once it's assigned. While tuple are immutable lists, **frozen sets are immutable sets**.\n",
        "\n",
        "Frozen sets can be created using the function frozenset()\n",
        "\n",
        "Sets being mutable are unhashable, so they can't be used as distionary keys. On the other hand, frozensets are hashable and can be used as keys to a dictionary.\n",
        "\n",
        "This datatype supports methods like copy(), difference(), intersection(), isdisjoint(), issubset(), issuperset(), symmetric_difference() and union(). Being immutable it does not have method that add or remove elements.\n",
        "\n"
      ],
      "metadata": {
        "id": "7K1zu6Vy6yOx"
      }
    },
    {
      "cell_type": "code",
      "source": [
        "set1 = frozenset([1,2,3,4])\n",
        "set2 = frozenset([3,4,5,6])\n",
        "\n",
        "# try to add element into set1 gives an error\n",
        "set1.add()"
      ],
      "metadata": {
        "colab": {
          "base_uri": "https://localhost:8080/",
          "height": 176
        },
        "id": "CVeP37Nu5rxr",
        "outputId": "35370c59-cfd7-49d6-c69d-5cf096d589c0"
      },
      "execution_count": null,
      "outputs": [
        {
          "output_type": "error",
          "ename": "AttributeError",
          "evalue": "'frozenset' object has no attribute 'add'",
          "traceback": [
            "\u001b[0;31m---------------------------------------------------------------------------\u001b[0m",
            "\u001b[0;31mAttributeError\u001b[0m                            Traceback (most recent call last)",
            "\u001b[0;32m/tmp/ipython-input-67-2711657564.py\u001b[0m in \u001b[0;36m<cell line: 0>\u001b[0;34m()\u001b[0m\n\u001b[1;32m      3\u001b[0m \u001b[0;34m\u001b[0m\u001b[0m\n\u001b[1;32m      4\u001b[0m \u001b[0;31m# try to add element into set1 gives an error\u001b[0m\u001b[0;34m\u001b[0m\u001b[0;34m\u001b[0m\u001b[0m\n\u001b[0;32m----> 5\u001b[0;31m \u001b[0mset1\u001b[0m\u001b[0;34m.\u001b[0m\u001b[0madd\u001b[0m\u001b[0;34m(\u001b[0m\u001b[0;34m)\u001b[0m\u001b[0;34m\u001b[0m\u001b[0;34m\u001b[0m\u001b[0m\n\u001b[0m",
            "\u001b[0;31mAttributeError\u001b[0m: 'frozenset' object has no attribute 'add'"
          ]
        }
      ]
    },
    {
      "cell_type": "code",
      "source": [
        "print(set1[1])   # doesn't support indexing"
      ],
      "metadata": {
        "colab": {
          "base_uri": "https://localhost:8080/",
          "height": 141
        },
        "id": "0oomptSGIxRz",
        "outputId": "b2324c5a-88ce-45fb-f084-febf1a39ec36"
      },
      "execution_count": null,
      "outputs": [
        {
          "output_type": "error",
          "ename": "TypeError",
          "evalue": "'frozenset' object is not subscriptable",
          "traceback": [
            "\u001b[0;31m---------------------------------------------------------------------------\u001b[0m",
            "\u001b[0;31mTypeError\u001b[0m                                 Traceback (most recent call last)",
            "\u001b[0;32m/tmp/ipython-input-70-112087592.py\u001b[0m in \u001b[0;36m<cell line: 0>\u001b[0;34m()\u001b[0m\n\u001b[0;32m----> 1\u001b[0;31m \u001b[0mprint\u001b[0m\u001b[0;34m(\u001b[0m\u001b[0mset1\u001b[0m\u001b[0;34m[\u001b[0m\u001b[0;36m1\u001b[0m\u001b[0;34m]\u001b[0m\u001b[0;34m)\u001b[0m   \u001b[0;31m# doesn't support indexing\u001b[0m\u001b[0;34m\u001b[0m\u001b[0;34m\u001b[0m\u001b[0m\n\u001b[0m",
            "\u001b[0;31mTypeError\u001b[0m: 'frozenset' object is not subscriptable"
          ]
        }
      ]
    },
    {
      "cell_type": "code",
      "source": [
        "print(set1 | set2)\n",
        "print(set1 & set2)\n",
        "print(set1 - set2)\n",
        "print(set1 ^ set2)"
      ],
      "metadata": {
        "colab": {
          "base_uri": "https://localhost:8080/"
        },
        "id": "gbafLCn4I3f8",
        "outputId": "b038701a-fdf0-4c70-fdc7-b35fa74604f3"
      },
      "execution_count": null,
      "outputs": [
        {
          "output_type": "stream",
          "name": "stdout",
          "text": [
            "frozenset({1, 2, 3, 4, 5, 6})\n",
            "frozenset({3, 4})\n",
            "frozenset({1, 2})\n",
            "frozenset({1, 2, 5, 6})\n"
          ]
        }
      ]
    },
    {
      "cell_type": "markdown",
      "source": [
        "## Dictionary\n",
        "\n",
        "Python dictionary is an **unordered (cannot index)** collection of items. While other compound data types have only value as an element, a dictionary has a key:value pair."
      ],
      "metadata": {
        "id": "ZiYzIN5gEBti"
      }
    },
    {
      "cell_type": "markdown",
      "source": [
        "## Dict Creation"
      ],
      "metadata": {
        "id": "qaQsQEgvEnAK"
      }
    },
    {
      "cell_type": "code",
      "source": [
        "# empty dictionary\n",
        "my_dict = {}\n",
        "\n",
        "#dictionary with integer keys\n",
        "my_dict = {1:'abc', 2:'xyz'}\n",
        "print(my_dict)\n",
        "\n",
        "#dictionary with mixed keys\n",
        "my_dict = {'name':'satish', 1:['abc','xyz']}\n",
        "print(my_dict)\n",
        "\n",
        "#create empty dictionary using dict()\n",
        "my_dict = dict()\n",
        "\n",
        "#create a dict with list of tuples\n",
        "my_dict = dict([(1, 'abc'),(2,'xyz')])\n",
        "print(my_dict)"
      ],
      "metadata": {
        "id": "xFxADbhdJIt2",
        "colab": {
          "base_uri": "https://localhost:8080/"
        },
        "outputId": "a96f0e15-1c19-453e-b097-ef4c0909cdc3"
      },
      "execution_count": null,
      "outputs": [
        {
          "output_type": "stream",
          "name": "stdout",
          "text": [
            "{1: 'abc', 2: 'xyz'}\n",
            "{'name': 'satish', 1: ['abc', 'xyz']}\n",
            "{1: 'abc', 2: 'xyz'}\n"
          ]
        }
      ]
    },
    {
      "cell_type": "markdown",
      "source": [
        "## Dict Access"
      ],
      "metadata": {
        "id": "MUJB1iYyjSrH"
      }
    },
    {
      "cell_type": "code",
      "source": [
        "my_dict = {'name':'satish', 'age':27, 'address':'guntur'}\n",
        "\n",
        "#get name\n",
        "print(my_dict['name'])"
      ],
      "metadata": {
        "colab": {
          "base_uri": "https://localhost:8080/"
        },
        "id": "An8Qa16iKkUH",
        "outputId": "4a456fa1-d10f-47f8-a7db-34d8c8fec1b7"
      },
      "execution_count": null,
      "outputs": [
        {
          "output_type": "stream",
          "name": "stdout",
          "text": [
            "satish\n"
          ]
        }
      ]
    },
    {
      "cell_type": "code",
      "source": [
        "# if key is not present it gives KeyError\n",
        "print(my_dict['degree'])"
      ],
      "metadata": {
        "colab": {
          "base_uri": "https://localhost:8080/",
          "height": 159
        },
        "id": "KXEV1RBojdbN",
        "outputId": "1669ca94-11ce-4ca3-c853-2b3256f3a6e5"
      },
      "execution_count": null,
      "outputs": [
        {
          "output_type": "error",
          "ename": "KeyError",
          "evalue": "'degree'",
          "traceback": [
            "\u001b[0;31m---------------------------------------------------------------------------\u001b[0m",
            "\u001b[0;31mKeyError\u001b[0m                                  Traceback (most recent call last)",
            "\u001b[0;32m/tmp/ipython-input-4-3852393106.py\u001b[0m in \u001b[0;36m<cell line: 0>\u001b[0;34m()\u001b[0m\n\u001b[1;32m      1\u001b[0m \u001b[0;31m# if key is not present it gives KeyError\u001b[0m\u001b[0;34m\u001b[0m\u001b[0;34m\u001b[0m\u001b[0m\n\u001b[0;32m----> 2\u001b[0;31m \u001b[0mprint\u001b[0m\u001b[0;34m(\u001b[0m\u001b[0mmy_dict\u001b[0m\u001b[0;34m[\u001b[0m\u001b[0;34m'degree'\u001b[0m\u001b[0;34m]\u001b[0m\u001b[0;34m)\u001b[0m\u001b[0;34m\u001b[0m\u001b[0;34m\u001b[0m\u001b[0m\n\u001b[0m",
            "\u001b[0;31mKeyError\u001b[0m: 'degree'"
          ]
        }
      ]
    },
    {
      "cell_type": "code",
      "source": [
        "print(my_dict.get('address'))"
      ],
      "metadata": {
        "colab": {
          "base_uri": "https://localhost:8080/"
        },
        "id": "JjesGLEEjncM",
        "outputId": "4550b6ca-44fa-46f3-f706-8b79dd825f72"
      },
      "execution_count": null,
      "outputs": [
        {
          "output_type": "stream",
          "name": "stdout",
          "text": [
            "guntur\n"
          ]
        }
      ]
    },
    {
      "cell_type": "code",
      "source": [
        "print(my_dict.get('degree'))"
      ],
      "metadata": {
        "colab": {
          "base_uri": "https://localhost:8080/"
        },
        "id": "itGWsCHzkNlZ",
        "outputId": "228c259e-e6af-4e63-8074-34319d863b03"
      },
      "execution_count": null,
      "outputs": [
        {
          "output_type": "stream",
          "name": "stdout",
          "text": [
            "None\n"
          ]
        }
      ]
    },
    {
      "cell_type": "markdown",
      "source": [
        "## Dict Add or Modify Elements"
      ],
      "metadata": {
        "id": "oMC_-HK4k2Nk"
      }
    },
    {
      "cell_type": "code",
      "source": [
        "my_dict = {'name': 'satish', 'age': 27, 'address': 'guntur'}\n",
        "\n",
        "#update name\n",
        "my_dict['name'] = 'raju'\n",
        "\n",
        "print(my_dict)"
      ],
      "metadata": {
        "colab": {
          "base_uri": "https://localhost:8080/"
        },
        "id": "E9QMQh8Fkwii",
        "outputId": "8603d9cd-d15b-4191-f318-e25253f09e62"
      },
      "execution_count": null,
      "outputs": [
        {
          "output_type": "stream",
          "name": "stdout",
          "text": [
            "{'name': 'raju', 'age': 27, 'address': 'guntur'}\n"
          ]
        }
      ]
    },
    {
      "cell_type": "code",
      "source": [
        "# add new key\n",
        "\n",
        "my_dict['degree'] = 'M.Tech'\n",
        "\n",
        "print(my_dict)"
      ],
      "metadata": {
        "colab": {
          "base_uri": "https://localhost:8080/"
        },
        "id": "I2A2klpnlvC4",
        "outputId": "cf8850df-34e9-4c3b-9c35-9c5651c90a48"
      },
      "execution_count": null,
      "outputs": [
        {
          "output_type": "stream",
          "name": "stdout",
          "text": [
            "{'name': 'raju', 'age': 27, 'address': 'guntur', 'degree': 'M.Tech'}\n"
          ]
        }
      ]
    },
    {
      "cell_type": "markdown",
      "source": [
        "## Dict Delete or Remove Element"
      ],
      "metadata": {
        "id": "FhYlp-GpvA_W"
      }
    },
    {
      "cell_type": "code",
      "source": [
        "my_dict = {'name': 'satish', 'age': 27, 'address': 'guntur'}\n",
        "\n",
        "# remove a particular item\n",
        "print(my_dict.pop('age'))\n",
        "\n",
        "print(my_dict)"
      ],
      "metadata": {
        "colab": {
          "base_uri": "https://localhost:8080/"
        },
        "id": "Hqx3TUyvl3Mz",
        "outputId": "ee48cbda-111e-454c-fda9-6db8a6ae88eb"
      },
      "execution_count": null,
      "outputs": [
        {
          "output_type": "stream",
          "name": "stdout",
          "text": [
            "27\n",
            "{'name': 'satish', 'address': 'guntur'}\n"
          ]
        }
      ]
    },
    {
      "cell_type": "code",
      "source": [
        "my_dict.popitem()       # remove random key:value pair"
      ],
      "metadata": {
        "colab": {
          "base_uri": "https://localhost:8080/"
        },
        "id": "zNq7myGnvUSq",
        "outputId": "cd42357b-f14f-4346-b386-72870bd71c6a"
      },
      "execution_count": null,
      "outputs": [
        {
          "output_type": "execute_result",
          "data": {
            "text/plain": [
              "('address', 'guntur')"
            ]
          },
          "metadata": {},
          "execution_count": 14
        }
      ]
    },
    {
      "cell_type": "code",
      "source": [
        "my_dicty = {'name': 'satish', 'age': 27, 'address': 'guntur'}\n",
        "\n",
        "# remove all items\n",
        "my_dict.clear()\n",
        "\n",
        "print(my_dict)"
      ],
      "metadata": {
        "colab": {
          "base_uri": "https://localhost:8080/"
        },
        "id": "MFue8iXFvyuL",
        "outputId": "5580a91b-94f0-4c82-c676-e44b15b1c1c8"
      },
      "execution_count": null,
      "outputs": [
        {
          "output_type": "stream",
          "name": "stdout",
          "text": [
            "{}\n"
          ]
        }
      ]
    },
    {
      "cell_type": "code",
      "source": [
        "squares = {2:4, 3:9, 4:16, 5:25}\n",
        "\n",
        "del squares[2]\n",
        "\n",
        "print(squares)"
      ],
      "metadata": {
        "colab": {
          "base_uri": "https://localhost:8080/"
        },
        "id": "kzVWmBPFv1Xk",
        "outputId": "bdb69077-f921-4579-9b3d-10fd23b0024b"
      },
      "execution_count": null,
      "outputs": [
        {
          "output_type": "stream",
          "name": "stdout",
          "text": [
            "{3: 9, 4: 16, 5: 25}\n"
          ]
        }
      ]
    },
    {
      "cell_type": "code",
      "source": [
        "# remove all items\n",
        "\n",
        "squares.clear()\n",
        "\n",
        "print(squares)"
      ],
      "metadata": {
        "colab": {
          "base_uri": "https://localhost:8080/"
        },
        "id": "MailgCb72AMp",
        "outputId": "1463d5af-0d1b-43db-e963-2f3e17bc13ed"
      },
      "execution_count": null,
      "outputs": [
        {
          "output_type": "stream",
          "name": "stdout",
          "text": [
            "{}\n"
          ]
        }
      ]
    },
    {
      "cell_type": "code",
      "source": [
        "squares = {2:4, 3:9, 4:16, 5:25}\n",
        "\n",
        "# delete the dictionary itself\n",
        "del squares\n",
        "\n",
        "print(squares)"
      ],
      "metadata": {
        "colab": {
          "base_uri": "https://localhost:8080/",
          "height": 176
        },
        "id": "gPXyxzIh2fPa",
        "outputId": "83156c38-e006-4568-c69a-9f2d82b50853"
      },
      "execution_count": null,
      "outputs": [
        {
          "output_type": "error",
          "ename": "NameError",
          "evalue": "name 'squares' is not defined",
          "traceback": [
            "\u001b[0;31m---------------------------------------------------------------------------\u001b[0m",
            "\u001b[0;31mNameError\u001b[0m                                 Traceback (most recent call last)",
            "\u001b[0;32m/tmp/ipython-input-20-3753265858.py\u001b[0m in \u001b[0;36m<cell line: 0>\u001b[0;34m()\u001b[0m\n\u001b[1;32m      4\u001b[0m \u001b[0;32mdel\u001b[0m \u001b[0msquares\u001b[0m\u001b[0;34m\u001b[0m\u001b[0;34m\u001b[0m\u001b[0m\n\u001b[1;32m      5\u001b[0m \u001b[0;34m\u001b[0m\u001b[0m\n\u001b[0;32m----> 6\u001b[0;31m \u001b[0mprint\u001b[0m\u001b[0;34m(\u001b[0m\u001b[0msquares\u001b[0m\u001b[0;34m)\u001b[0m\u001b[0;34m\u001b[0m\u001b[0;34m\u001b[0m\u001b[0m\n\u001b[0m",
            "\u001b[0;31mNameError\u001b[0m: name 'squares' is not defined"
          ]
        }
      ]
    },
    {
      "cell_type": "markdown",
      "source": [
        "## Dictionary Methods"
      ],
      "metadata": {
        "id": "Q6v12wNA3w23"
      }
    },
    {
      "cell_type": "code",
      "source": [
        "squares = {2:4, 3:9, 4:16, 5:25}\n",
        "\n",
        "my_dict = squares.copy()\n",
        "print(my_dict)"
      ],
      "metadata": {
        "colab": {
          "base_uri": "https://localhost:8080/"
        },
        "id": "elbRyfQt3Rwx",
        "outputId": "fb78c7a8-7e3a-4ea5-de2b-13df716ad6fc"
      },
      "execution_count": null,
      "outputs": [
        {
          "output_type": "stream",
          "name": "stdout",
          "text": [
            "{2: 4, 3: 9, 4: 16, 5: 25}\n"
          ]
        }
      ]
    },
    {
      "cell_type": "code",
      "source": [
        " # fromkeys[seq[, v]] ->  Return a new dictionary with keys from seq and value\n",
        "\n",
        " subjects = {}.fromkeys(['Math', 'English', 'Hindi'], 0)\n",
        "\n",
        " print(subjects)"
      ],
      "metadata": {
        "colab": {
          "base_uri": "https://localhost:8080/"
        },
        "id": "KbrirKQb36bp",
        "outputId": "fe7b40db-9d42-4916-b450-eb9f7fd424da"
      },
      "execution_count": null,
      "outputs": [
        {
          "output_type": "stream",
          "name": "stdout",
          "text": [
            "{'Math': 0, 'English': 0, 'Hindi': 0}\n"
          ]
        }
      ]
    },
    {
      "cell_type": "code",
      "source": [
        "subjects = {2:4, 3:9, 4:16, 5:25}\n",
        "\n",
        "print(subjects.items())    #return new view of the dictionary items (key, value)"
      ],
      "metadata": {
        "colab": {
          "base_uri": "https://localhost:8080/"
        },
        "id": "LtjjDmQa52mb",
        "outputId": "11211d44-d0a5-44ef-e644-444db9a88cff"
      },
      "execution_count": null,
      "outputs": [
        {
          "output_type": "stream",
          "name": "stdout",
          "text": [
            "dict_items([(2, 4), (3, 9), (4, 16), (5, 25)])\n"
          ]
        }
      ]
    },
    {
      "cell_type": "code",
      "source": [
        "print(subjects.keys())\n",
        "\n",
        "print(subjects.values())"
      ],
      "metadata": {
        "colab": {
          "base_uri": "https://localhost:8080/"
        },
        "id": "2iBzbab26MK5",
        "outputId": "ac03ac9f-635a-47b7-98e7-1d88b0a7be8b"
      },
      "execution_count": null,
      "outputs": [
        {
          "output_type": "stream",
          "name": "stdout",
          "text": [
            "dict_keys([2, 3, 4, 5])\n",
            "dict_values([4, 9, 16, 25])\n"
          ]
        }
      ]
    },
    {
      "cell_type": "code",
      "source": [
        "# get list of all available methods and attributes of dictionary\n",
        "\n",
        "d = {}\n",
        "print(dir(d))"
      ],
      "metadata": {
        "colab": {
          "base_uri": "https://localhost:8080/"
        },
        "id": "ci-tQXy37KtI",
        "outputId": "1d99b966-44ef-4281-ec4a-08be2fcddb60"
      },
      "execution_count": null,
      "outputs": [
        {
          "output_type": "stream",
          "name": "stdout",
          "text": [
            "['__class__', '__class_getitem__', '__contains__', '__delattr__', '__delitem__', '__dir__', '__doc__', '__eq__', '__format__', '__ge__', '__getattribute__', '__getitem__', '__getstate__', '__gt__', '__hash__', '__init__', '__init_subclass__', '__ior__', '__iter__', '__le__', '__len__', '__lt__', '__ne__', '__new__', '__or__', '__reduce__', '__reduce_ex__', '__repr__', '__reversed__', '__ror__', '__setattr__', '__setitem__', '__sizeof__', '__str__', '__subclasshook__', 'clear', 'copy', 'fromkeys', 'get', 'items', 'keys', 'pop', 'popitem', 'setdefault', 'update', 'values']\n"
          ]
        }
      ]
    },
    {
      "cell_type": "markdown",
      "source": [
        "## Dict Comprehension"
      ],
      "metadata": {
        "id": "fL7k2QRfAZsh"
      }
    },
    {
      "cell_type": "code",
      "source": [
        "# Dict comprehensions are just like list comprehensions but for dictionaries\n",
        "\n",
        "d = {'a':1, 'b':2, 'c':3}\n",
        "for pair in d.items():\n",
        "  print(pair)"
      ],
      "metadata": {
        "colab": {
          "base_uri": "https://localhost:8080/"
        },
        "id": "40klMUWD_S27",
        "outputId": "f3ac2c41-3365-4cb4-d42e-809eb3b74089"
      },
      "execution_count": null,
      "outputs": [
        {
          "output_type": "stream",
          "name": "stdout",
          "text": [
            "('a', 1)\n",
            "('b', 2)\n",
            "('c', 3)\n"
          ]
        }
      ]
    },
    {
      "cell_type": "code",
      "source": [
        "# creating a new dictionary with only pairs where the value is largest than 2\n",
        "\n",
        "d = {'a':1, 'b':2, 'c':3, 'd':4}\n",
        "new_dict = {k:v for k, v in d.items() if v > 2}\n",
        "print(new_dict)"
      ],
      "metadata": {
        "colab": {
          "base_uri": "https://localhost:8080/"
        },
        "id": "m1E_znHyBS3J",
        "outputId": "f8ce0ce4-58c4-4baf-9b32-66dd9817f5c2"
      },
      "execution_count": null,
      "outputs": [
        {
          "output_type": "stream",
          "name": "stdout",
          "text": [
            "{'c': 3, 'd': 4}\n"
          ]
        }
      ]
    },
    {
      "cell_type": "code",
      "source": [
        "# we can also perform operations on the key value pairs\n",
        "d = {'a':1, 'b':2, 'c':3, 'd':4, 'e':5}\n",
        "d = {k + 'c':v * 2 for k, v in d.items() if v > 2}\n",
        "print(d)"
      ],
      "metadata": {
        "colab": {
          "base_uri": "https://localhost:8080/"
        },
        "id": "BwhVd3TpDpfX",
        "outputId": "074a77c6-ba25-4648-8fca-33ccda06b763"
      },
      "execution_count": null,
      "outputs": [
        {
          "output_type": "stream",
          "name": "stdout",
          "text": [
            "{'cc': 6, 'dc': 8, 'ec': 10}\n"
          ]
        }
      ]
    },
    {
      "cell_type": "markdown",
      "source": [
        "# Tuples"
      ],
      "metadata": {
        "id": "y_0ydBzkEgMr"
      }
    },
    {
      "cell_type": "markdown",
      "source": [
        "A tuple is similar to list\n",
        "\n",
        "The difference between the two is that we can't change the elements of tuple once it is assigned whereas in the list, elements can be changed.\n",
        "\n",
        "Tuples are immutable."
      ],
      "metadata": {
        "id": "yE3kSYF8Ei0Q"
      }
    },
    {
      "cell_type": "markdown",
      "source": [
        "## Tuple Creation"
      ],
      "metadata": {
        "id": "ExEpGF6Ym8WV"
      }
    },
    {
      "cell_type": "code",
      "source": [
        " #empty tuple\n",
        " t = ()\n",
        "\n",
        " #tuple having integers\n",
        " t = (1, 2, 3)\n",
        " print(t)\n",
        "\n",
        " #tuple with mixed datatypes\n",
        " t = (1, 'raju', 20, 'abc')\n",
        " print(t)\n",
        "\n",
        " #nested tuple\n",
        " t = (1, (2, 3, 4), [1, 'raju', 20, 'abc'])\n",
        " print(t)"
      ],
      "metadata": {
        "colab": {
          "base_uri": "https://localhost:8080/"
        },
        "id": "cEDca-xNEKl7",
        "outputId": "9a7ebdd1-a7f7-4ab2-9f47-3784d16c6a17"
      },
      "execution_count": null,
      "outputs": [
        {
          "output_type": "stream",
          "name": "stdout",
          "text": [
            "(1, 2, 3)\n",
            "(1, 'raju', 20, 'abc')\n",
            "(1, (2, 3, 4), [1, 'raju', 20, 'abc'])\n"
          ]
        }
      ]
    },
    {
      "cell_type": "code",
      "source": [
        "# parenthesis is not enough\n",
        "t = ('satish')\n",
        "print(type(t))"
      ],
      "metadata": {
        "colab": {
          "base_uri": "https://localhost:8080/"
        },
        "id": "KeR24sKtuBGn",
        "outputId": "92f33503-4635-43a0-c444-58288c1350c3"
      },
      "execution_count": null,
      "outputs": [
        {
          "output_type": "stream",
          "name": "stdout",
          "text": [
            "<class 'str'>\n"
          ]
        }
      ]
    },
    {
      "cell_type": "code",
      "source": [
        "# comma is needed\n",
        "t = ('satish',)\n",
        "print(type(t))"
      ],
      "metadata": {
        "colab": {
          "base_uri": "https://localhost:8080/"
        },
        "id": "jPVifR1EqEy6",
        "outputId": "7ea071c3-f279-4910-da47-321ec41a3b8a"
      },
      "execution_count": null,
      "outputs": [
        {
          "output_type": "stream",
          "name": "stdout",
          "text": [
            "<class 'tuple'>\n"
          ]
        }
      ]
    },
    {
      "cell_type": "code",
      "source": [
        "# parenthesis is optional\n",
        "t = 'satish',\n",
        "\n",
        "print(type(t))\n",
        "print(t)"
      ],
      "metadata": {
        "colab": {
          "base_uri": "https://localhost:8080/"
        },
        "id": "DZsM2X3qqPhY",
        "outputId": "2cf94010-38a8-4c5b-b065-937589204c50"
      },
      "execution_count": null,
      "outputs": [
        {
          "output_type": "stream",
          "name": "stdout",
          "text": [
            "<class 'tuple'>\n",
            "('satish',)\n"
          ]
        }
      ]
    },
    {
      "cell_type": "markdown",
      "source": [
        "## Accesing elements in tuple"
      ],
      "metadata": {
        "id": "-17e37dXyWqJ"
      }
    },
    {
      "cell_type": "code",
      "source": [
        "# indexing works and start with 0\n",
        "t = (\"satish\",\"murali\",\"naveen\",\"shrinu\",\"brahma\")\n",
        "print(t[1])"
      ],
      "metadata": {
        "colab": {
          "base_uri": "https://localhost:8080/"
        },
        "id": "MMTAAQjrq4eE",
        "outputId": "ac4762e3-0273-421c-9650-d0c6e08d27a9"
      },
      "execution_count": null,
      "outputs": [
        {
          "output_type": "stream",
          "name": "stdout",
          "text": [
            "murali\n"
          ]
        }
      ]
    },
    {
      "cell_type": "code",
      "source": [
        "# negative index\n",
        "print(t[-1])"
      ],
      "metadata": {
        "colab": {
          "base_uri": "https://localhost:8080/"
        },
        "id": "dO8ax5wnzBUm",
        "outputId": "474d933d-7021-486c-e382-50bb503230e6"
      },
      "execution_count": null,
      "outputs": [
        {
          "output_type": "stream",
          "name": "stdout",
          "text": [
            "brahma\n"
          ]
        }
      ]
    },
    {
      "cell_type": "code",
      "source": [
        "# nested tuple\n",
        "t = ('ABC', ('satish','naveen','srinu'))\n",
        "print(t[1][2])"
      ],
      "metadata": {
        "colab": {
          "base_uri": "https://localhost:8080/"
        },
        "id": "4mwhpW7A0IsA",
        "outputId": "1d9140bf-a76c-41de-96fd-8301ddcfa931"
      },
      "execution_count": null,
      "outputs": [
        {
          "output_type": "stream",
          "name": "stdout",
          "text": [
            "srinu\n"
          ]
        }
      ]
    },
    {
      "cell_type": "code",
      "source": [
        "# slicing\n",
        "t = (1, 2, 3, 4, 5, 6)\n",
        "\n",
        "print(t[1:4])    # 2nd to 5th element\n",
        "\n",
        "print(t[:-2])    # start to second last element\n",
        "\n",
        "print(t[:])      # elements starting to end"
      ],
      "metadata": {
        "colab": {
          "base_uri": "https://localhost:8080/"
        },
        "id": "nEUsy5IH08yu",
        "outputId": "bb03c336-3dd7-433b-b623-f8b0f3906f09"
      },
      "execution_count": null,
      "outputs": [
        {
          "output_type": "stream",
          "name": "stdout",
          "text": [
            "(2, 3, 4)\n",
            "(1, 2, 3, 4)\n",
            "(1, 2, 3, 4, 5, 6)\n"
          ]
        }
      ]
    },
    {
      "cell_type": "markdown",
      "source": [
        "## Chnaging a Tuple\n",
        "\n",
        "Unlike lists, tuples are immutable.\n",
        "\n",
        "This means that elements of a tuple cannot be changed once it has been assigned. But if the element is itself a mutable datatype like list, its nested items can be changed."
      ],
      "metadata": {
        "id": "4XCnjDQHUK9G"
      }
    },
    {
      "cell_type": "code",
      "source": [
        "t = (1, 2, 3, 4, [5, 6, 7])\n",
        "\n",
        "t[2] = 'x' #will get TypeError"
      ],
      "metadata": {
        "colab": {
          "base_uri": "https://localhost:8080/",
          "height": 176
        },
        "id": "4I_6zvYq10aP",
        "outputId": "3268c561-cf49-49ee-cd89-a0aa0e40507b"
      },
      "execution_count": null,
      "outputs": [
        {
          "output_type": "error",
          "ename": "TypeError",
          "evalue": "'tuple' object does not support item assignment",
          "traceback": [
            "\u001b[0;31m---------------------------------------------------------------------------\u001b[0m",
            "\u001b[0;31mTypeError\u001b[0m                                 Traceback (most recent call last)",
            "\u001b[0;32m/tmp/ipython-input-12-1051956782.py\u001b[0m in \u001b[0;36m<cell line: 0>\u001b[0;34m()\u001b[0m\n\u001b[1;32m      1\u001b[0m \u001b[0mt\u001b[0m \u001b[0;34m=\u001b[0m \u001b[0;34m(\u001b[0m\u001b[0;36m1\u001b[0m\u001b[0;34m,\u001b[0m \u001b[0;36m2\u001b[0m\u001b[0;34m,\u001b[0m \u001b[0;36m3\u001b[0m\u001b[0;34m,\u001b[0m \u001b[0;36m4\u001b[0m\u001b[0;34m,\u001b[0m \u001b[0;34m[\u001b[0m\u001b[0;36m5\u001b[0m\u001b[0;34m,\u001b[0m \u001b[0;36m6\u001b[0m\u001b[0;34m,\u001b[0m \u001b[0;36m7\u001b[0m\u001b[0;34m]\u001b[0m\u001b[0;34m)\u001b[0m\u001b[0;34m\u001b[0m\u001b[0;34m\u001b[0m\u001b[0m\n\u001b[1;32m      2\u001b[0m \u001b[0;34m\u001b[0m\u001b[0m\n\u001b[0;32m----> 3\u001b[0;31m \u001b[0mt\u001b[0m\u001b[0;34m[\u001b[0m\u001b[0;36m2\u001b[0m\u001b[0;34m]\u001b[0m \u001b[0;34m=\u001b[0m \u001b[0;34m'x'\u001b[0m \u001b[0;31m#will get TypeError\u001b[0m\u001b[0;34m\u001b[0m\u001b[0;34m\u001b[0m\u001b[0m\n\u001b[0m",
            "\u001b[0;31mTypeError\u001b[0m: 'tuple' object does not support item assignment"
          ]
        }
      ]
    },
    {
      "cell_type": "code",
      "source": [
        "t[4][1] = 'satish'\n",
        "print(t)"
      ],
      "metadata": {
        "colab": {
          "base_uri": "https://localhost:8080/"
        },
        "id": "ApWfels1VeiP",
        "outputId": "d94768bc-42e7-4eea-87da-834cac6fc4ce"
      },
      "execution_count": null,
      "outputs": [
        {
          "output_type": "stream",
          "name": "stdout",
          "text": [
            "(1, 2, 3, 4, [5, 'satish', 7])\n"
          ]
        }
      ]
    },
    {
      "cell_type": "code",
      "source": [
        "# concatinating tuples\n",
        "\n",
        "t = (1, 2, 3) + (4, 5, 6)\n",
        "print(t)"
      ],
      "metadata": {
        "colab": {
          "base_uri": "https://localhost:8080/"
        },
        "id": "rpbYkbRQVvy9",
        "outputId": "8dc9b256-906d-4ca1-f439-4a5fee54e8d6"
      },
      "execution_count": null,
      "outputs": [
        {
          "output_type": "stream",
          "name": "stdout",
          "text": [
            "(1, 2, 3, 4, 5, 6)\n"
          ]
        }
      ]
    },
    {
      "cell_type": "code",
      "source": [
        "# repeat the elements in a tuple for a given number of times using the * operator\n",
        "\n",
        "t = (('satish',)*4)\n",
        "print(t)"
      ],
      "metadata": {
        "colab": {
          "base_uri": "https://localhost:8080/"
        },
        "id": "z1XlTtbTWHN8",
        "outputId": "06ea39cd-53b0-44b1-8295-538c8c6a5390"
      },
      "execution_count": null,
      "outputs": [
        {
          "output_type": "stream",
          "name": "stdout",
          "text": [
            "('satish', 'satish', 'satish', 'satish')\n"
          ]
        }
      ]
    },
    {
      "cell_type": "markdown",
      "source": [
        "## Tuple Deletion"
      ],
      "metadata": {
        "id": "Ja7AenkdXCMp"
      }
    },
    {
      "cell_type": "code",
      "source": [
        "# we cannot chnage the elements in a tuple\n",
        "# that also means we cannot delete or remove items from a tuple\n",
        "\n",
        "#delete entire tuple using del keyword\n",
        "t = (1, 2, 3, 4, 5, 6)\n",
        "\n",
        "#delete entire tuple\n",
        "del t"
      ],
      "metadata": {
        "id": "5ghHpsAwW5T5"
      },
      "execution_count": null,
      "outputs": []
    },
    {
      "cell_type": "code",
      "source": [
        "print(t)"
      ],
      "metadata": {
        "colab": {
          "base_uri": "https://localhost:8080/",
          "height": 141
        },
        "id": "Inw7PK1OYFU8",
        "outputId": "9f784fe0-96c4-4732-8e2a-defe46e1cc3c"
      },
      "execution_count": null,
      "outputs": [
        {
          "output_type": "error",
          "ename": "NameError",
          "evalue": "name 't' is not defined",
          "traceback": [
            "\u001b[0;31m---------------------------------------------------------------------------\u001b[0m",
            "\u001b[0;31mNameError\u001b[0m                                 Traceback (most recent call last)",
            "\u001b[0;32m/tmp/ipython-input-17-2058247866.py\u001b[0m in \u001b[0;36m<cell line: 0>\u001b[0;34m()\u001b[0m\n\u001b[0;32m----> 1\u001b[0;31m \u001b[0mprint\u001b[0m\u001b[0;34m(\u001b[0m\u001b[0mt\u001b[0m\u001b[0;34m)\u001b[0m\u001b[0;34m\u001b[0m\u001b[0;34m\u001b[0m\u001b[0m\n\u001b[0m",
            "\u001b[0;31mNameError\u001b[0m: name 't' is not defined"
          ]
        }
      ]
    },
    {
      "cell_type": "markdown",
      "source": [
        "## Tuple Count"
      ],
      "metadata": {
        "id": "baI4p8TwYPeN"
      }
    },
    {
      "cell_type": "code",
      "source": [
        "t = (1, 2, 3, 1, 3, 3, 4, 1)\n",
        "\n",
        "#get the frequency of particular elements appears in a tuple\n",
        "t.count(1)"
      ],
      "metadata": {
        "colab": {
          "base_uri": "https://localhost:8080/"
        },
        "id": "cgXgDpLqYHks",
        "outputId": "f127c12a-07fa-4b5a-ac24-5aed782486d9"
      },
      "execution_count": null,
      "outputs": [
        {
          "output_type": "execute_result",
          "data": {
            "text/plain": [
              "3"
            ]
          },
          "metadata": {},
          "execution_count": 18
        }
      ]
    },
    {
      "cell_type": "markdown",
      "source": [
        "## Tuple Index"
      ],
      "metadata": {
        "id": "EGtUIcEvY2H0"
      }
    },
    {
      "cell_type": "code",
      "source": [
        "t = (1, 2, 3, 1, 3, 3, 4, 1)\n",
        "\n",
        "print(t.index(3)) #return index of the first element is equal to 3\n",
        "\n",
        "#print index of the 1\n",
        "print(t.index(1))"
      ],
      "metadata": {
        "colab": {
          "base_uri": "https://localhost:8080/"
        },
        "id": "ahm896sBYd5R",
        "outputId": "a58b8766-8353-405d-c08f-dce61d565a60"
      },
      "execution_count": null,
      "outputs": [
        {
          "output_type": "stream",
          "name": "stdout",
          "text": [
            "2\n",
            "0\n"
          ]
        }
      ]
    },
    {
      "cell_type": "markdown",
      "source": [
        "## Tuple Membership"
      ],
      "metadata": {
        "id": "N5t2UtefcVKe"
      }
    },
    {
      "cell_type": "code",
      "source": [
        " # test if an item exists in a tuple or not, using the keyword in\n",
        " t = (1, 2, 3, 4, 5, 6)\n",
        "\n",
        " print(1 in t)"
      ],
      "metadata": {
        "colab": {
          "base_uri": "https://localhost:8080/"
        },
        "id": "UW7xslyPac_Q",
        "outputId": "2abb0e4e-ca75-469d-e4dd-5be49a0ce9b1"
      },
      "execution_count": null,
      "outputs": [
        {
          "output_type": "stream",
          "name": "stdout",
          "text": [
            "True\n"
          ]
        }
      ]
    },
    {
      "cell_type": "code",
      "source": [
        "print(7 in t)"
      ],
      "metadata": {
        "colab": {
          "base_uri": "https://localhost:8080/"
        },
        "id": "F_9_Nla0dLxi",
        "outputId": "46735435-e092-47f7-8d2d-f3169671744a"
      },
      "execution_count": null,
      "outputs": [
        {
          "output_type": "stream",
          "name": "stdout",
          "text": [
            "False\n"
          ]
        }
      ]
    },
    {
      "cell_type": "markdown",
      "source": [
        "## Built in Functions"
      ],
      "metadata": {
        "id": "k2Mqvqw0dRcx"
      }
    },
    {
      "cell_type": "markdown",
      "source": [
        "## Tuple length"
      ],
      "metadata": {
        "id": "h051NAs1dUQH"
      }
    },
    {
      "cell_type": "code",
      "source": [
        " t = (1, 2, 3, 4, 5, 6)\n",
        "\n",
        " print(len(t))"
      ],
      "metadata": {
        "colab": {
          "base_uri": "https://localhost:8080/"
        },
        "id": "0KHlTYXcdNuN",
        "outputId": "f133d83b-1441-4d63-f302-3a561edd30eb"
      },
      "execution_count": null,
      "outputs": [
        {
          "output_type": "stream",
          "name": "stdout",
          "text": [
            "6\n"
          ]
        }
      ]
    },
    {
      "cell_type": "code",
      "source": [
        "t = (4, 5, 1, 2, 3)\n",
        "\n",
        "new_t = sorted(t)\n",
        "print(new_t)        # return a new sorted LIST"
      ],
      "metadata": {
        "colab": {
          "base_uri": "https://localhost:8080/"
        },
        "id": "ceJqws2ldk1O",
        "outputId": "9a06a01f-eda1-447d-e2ab-6a17d6820063"
      },
      "execution_count": null,
      "outputs": [
        {
          "output_type": "stream",
          "name": "stdout",
          "text": [
            "[1, 2, 3, 4, 5]\n"
          ]
        }
      ]
    },
    {
      "cell_type": "code",
      "source": [
        "# get the largest element in a tuple\n",
        "t = (2, 5, 1, 6, 9)\n",
        "\n",
        "print(max(t))"
      ],
      "metadata": {
        "colab": {
          "base_uri": "https://localhost:8080/"
        },
        "id": "cMjfdZ-sdw3_",
        "outputId": "9ec99e74-b805-4205-f547-80dd95cc0859"
      },
      "execution_count": null,
      "outputs": [
        {
          "output_type": "stream",
          "name": "stdout",
          "text": [
            "9\n"
          ]
        }
      ]
    },
    {
      "cell_type": "code",
      "source": [
        "# get smallest element\n",
        "print(min(t))"
      ],
      "metadata": {
        "colab": {
          "base_uri": "https://localhost:8080/"
        },
        "id": "Pq8T1FKvd9mh",
        "outputId": "b8c0c767-5b4d-4533-8ff3-4306759d9d6b"
      },
      "execution_count": null,
      "outputs": [
        {
          "output_type": "stream",
          "name": "stdout",
          "text": [
            "1\n"
          ]
        }
      ]
    },
    {
      "cell_type": "code",
      "source": [
        "# get sum of elements\n",
        "print(sum(t))"
      ],
      "metadata": {
        "colab": {
          "base_uri": "https://localhost:8080/"
        },
        "id": "7INgv96QeDIO",
        "outputId": "e3daaa87-0535-48af-e953-f1d3bbd165ac"
      },
      "execution_count": null,
      "outputs": [
        {
          "output_type": "stream",
          "name": "stdout",
          "text": [
            "23\n"
          ]
        }
      ]
    },
    {
      "cell_type": "code",
      "source": [
        "t = ('abc', 'xyz')\n",
        "print(sum(t))       # only int supported"
      ],
      "metadata": {
        "colab": {
          "base_uri": "https://localhost:8080/",
          "height": 159
        },
        "id": "Nbz18LeyeIe2",
        "outputId": "6ca43932-cf9e-48bb-fca0-91778d3949f6"
      },
      "execution_count": null,
      "outputs": [
        {
          "output_type": "error",
          "ename": "TypeError",
          "evalue": "unsupported operand type(s) for +: 'int' and 'str'",
          "traceback": [
            "\u001b[0;31m---------------------------------------------------------------------------\u001b[0m",
            "\u001b[0;31mTypeError\u001b[0m                                 Traceback (most recent call last)",
            "\u001b[0;32m/tmp/ipython-input-31-638483154.py\u001b[0m in \u001b[0;36m<cell line: 0>\u001b[0;34m()\u001b[0m\n\u001b[1;32m      1\u001b[0m \u001b[0mt\u001b[0m \u001b[0;34m=\u001b[0m \u001b[0;34m(\u001b[0m\u001b[0;34m'abc'\u001b[0m\u001b[0;34m,\u001b[0m \u001b[0;34m'xyz'\u001b[0m\u001b[0;34m)\u001b[0m\u001b[0;34m\u001b[0m\u001b[0;34m\u001b[0m\u001b[0m\n\u001b[0;32m----> 2\u001b[0;31m \u001b[0mprint\u001b[0m\u001b[0;34m(\u001b[0m\u001b[0msum\u001b[0m\u001b[0;34m(\u001b[0m\u001b[0mt\u001b[0m\u001b[0;34m)\u001b[0m\u001b[0;34m)\u001b[0m\u001b[0;34m\u001b[0m\u001b[0;34m\u001b[0m\u001b[0m\n\u001b[0m",
            "\u001b[0;31mTypeError\u001b[0m: unsupported operand type(s) for +: 'int' and 'str'"
          ]
        }
      ]
    },
    {
      "cell_type": "markdown",
      "source": [
        "## Lists"
      ],
      "metadata": {
        "id": "AQ3osPT8hJur"
      }
    },
    {
      "cell_type": "markdown",
      "source": [
        "Data Structure\n",
        "\n",
        "A data structure is a collection of data elements (such as numbers or characters - or even other data structures) that is structured in some way, for example, by numbering the elements. The most basic data structure in Python is the 'sequence'.\n",
        "\n",
        "List is one of the **Sequence Data structure.**\n",
        "\n",
        "Lists are collection of items(Strings, integers or even other lists).\n",
        "\n",
        "Lists are enclosed in [].\n",
        "\n",
        "Lists are **mutable** , which means they can be changed."
      ],
      "metadata": {
        "id": "oPkGFNTlhNUm"
      }
    },
    {
      "cell_type": "markdown",
      "source": [
        "## List Creation"
      ],
      "metadata": {
        "id": "liCGjN4Fzdx6"
      }
    },
    {
      "cell_type": "code",
      "source": [
        "emptyList = []\n",
        "\n",
        "l1 = ['one', 'two', 'three', 'four']      # list of strings\n",
        "\n",
        "l2 = [1, 2, 3, 4]                         # list of integers\n",
        "\n",
        "l3 = [[1, 2], [3, 4]]                     # list of lists\n",
        "\n",
        "l4 = [1, 'ramu', 24, 1.24]                # list of different datatypes\n",
        "\n",
        "print(l4)"
      ],
      "metadata": {
        "id": "-IHsp4HpeOGT",
        "colab": {
          "base_uri": "https://localhost:8080/"
        },
        "outputId": "df0aee1b-23fc-4ee5-feb7-90da9a9ca949"
      },
      "execution_count": null,
      "outputs": [
        {
          "output_type": "stream",
          "name": "stdout",
          "text": [
            "[1, 'ramu', 24, 1.24]\n"
          ]
        }
      ]
    },
    {
      "cell_type": "markdown",
      "source": [
        "## List Length"
      ],
      "metadata": {
        "id": "w2eT-5be0k1k"
      }
    },
    {
      "cell_type": "code",
      "source": [
        "l = ['one', 'two', 'three', 'four']\n",
        "\n",
        "print(len(l))"
      ],
      "metadata": {
        "colab": {
          "base_uri": "https://localhost:8080/"
        },
        "id": "CtQLsfqm0XOT",
        "outputId": "e395dee8-c34d-4be6-c34b-910d64930bcb"
      },
      "execution_count": null,
      "outputs": [
        {
          "output_type": "stream",
          "name": "stdout",
          "text": [
            "4\n"
          ]
        }
      ]
    },
    {
      "cell_type": "markdown",
      "source": [
        "## List Append"
      ],
      "metadata": {
        "id": "SVvYP8St0ypa"
      }
    },
    {
      "cell_type": "code",
      "source": [
        "l = ['one', ' two', 'three', 'four']\n",
        "\n",
        "l.append('five')\n",
        "\n",
        "print(l)"
      ],
      "metadata": {
        "colab": {
          "base_uri": "https://localhost:8080/"
        },
        "id": "6zWbX0FJ0upy",
        "outputId": "dc593d57-c471-4091-e88d-29446843937b"
      },
      "execution_count": null,
      "outputs": [
        {
          "output_type": "stream",
          "name": "stdout",
          "text": [
            "['one', ' two', 'three', 'four', 'five']\n"
          ]
        }
      ]
    },
    {
      "cell_type": "markdown",
      "source": [
        "## List Insert"
      ],
      "metadata": {
        "id": "sDR92nRq1X76"
      }
    },
    {
      "cell_type": "code",
      "source": [
        "l = ['one', 'two', 'four']\n",
        "\n",
        "l.insert(2, 'three')         # l.insert(x, y)\n",
        "\n",
        "print(l)"
      ],
      "metadata": {
        "colab": {
          "base_uri": "https://localhost:8080/"
        },
        "id": "drnbYhCW1EGN",
        "outputId": "1be56727-e4dc-45ac-c475-bd66e6a262ac"
      },
      "execution_count": null,
      "outputs": [
        {
          "output_type": "stream",
          "name": "stdout",
          "text": [
            "['one', 'two', 'three', 'four']\n"
          ]
        }
      ]
    },
    {
      "cell_type": "markdown",
      "source": [
        "## List Remove"
      ],
      "metadata": {
        "id": "l0nCrT0413--"
      }
    },
    {
      "cell_type": "code",
      "source": [
        "l = ['one', 'two', 'three', 'four', 'two']\n",
        "\n",
        "l.remove('two')       #it will remove first occurance of 'two' in a given list\n",
        "\n",
        "print(l)"
      ],
      "metadata": {
        "colab": {
          "base_uri": "https://localhost:8080/"
        },
        "id": "pkKy4ppx1lNi",
        "outputId": "3649dc7a-6164-4953-aa95-94b43a965d47"
      },
      "execution_count": null,
      "outputs": [
        {
          "output_type": "stream",
          "name": "stdout",
          "text": [
            "['one', 'three', 'four', 'two']\n"
          ]
        }
      ]
    },
    {
      "cell_type": "markdown",
      "source": [
        "## List Append & Extend"
      ],
      "metadata": {
        "id": "nPjyCabM2aDx"
      }
    },
    {
      "cell_type": "code",
      "source": [
        "l1 = ['one', 'two', 'three', 'four']\n",
        "l2 = ['five', 'six']\n",
        "\n",
        "#append\n",
        "l1.append(l2)\n",
        "\n",
        "print(l1)"
      ],
      "metadata": {
        "colab": {
          "base_uri": "https://localhost:8080/"
        },
        "id": "A9NLtebR1-tS",
        "outputId": "65d4c3e5-488c-41f4-b8b5-9404e67635fa"
      },
      "execution_count": null,
      "outputs": [
        {
          "output_type": "stream",
          "name": "stdout",
          "text": [
            "['one', 'two', 'three', 'four', ['five', 'six']]\n"
          ]
        }
      ]
    },
    {
      "cell_type": "code",
      "source": [
        "l1 = ['one', 'two', 'three', 'four']\n",
        "l2 = ['five', 'six']\n",
        "\n",
        "#extend will join the list1 with list2\n",
        "\n",
        "l1.extend(l2)\n",
        "\n",
        "print(l1)"
      ],
      "metadata": {
        "colab": {
          "base_uri": "https://localhost:8080/"
        },
        "id": "0CYrnvEi2wkU",
        "outputId": "99a4a5f1-e86a-4ce1-d94a-4e67548004a6"
      },
      "execution_count": null,
      "outputs": [
        {
          "output_type": "stream",
          "name": "stdout",
          "text": [
            "['one', 'two', 'three', 'four', 'five', 'six']\n"
          ]
        }
      ]
    },
    {
      "cell_type": "markdown",
      "source": [
        "## List Delete"
      ],
      "metadata": {
        "id": "VTAa_yEB6eIa"
      }
    },
    {
      "cell_type": "code",
      "source": [
        "l = ['one', 'two', 'three', 'four', 'five']\n",
        "\n",
        "del l[1]            # del to remove item based on index position\n",
        "\n",
        "print(l)\n",
        "\n",
        "# or we can use pop() method by index\n",
        "\n",
        "a = l.pop(1)\n",
        "\n",
        "print(a)\n",
        "print(l)"
      ],
      "metadata": {
        "colab": {
          "base_uri": "https://localhost:8080/"
        },
        "id": "cIv_i5Xa3hKZ",
        "outputId": "7e03fea7-8c83-4613-cf22-254a8ff0ea67"
      },
      "execution_count": null,
      "outputs": [
        {
          "output_type": "stream",
          "name": "stdout",
          "text": [
            "['one', 'three', 'four', 'five']\n",
            "three\n",
            "['one', 'four', 'five']\n"
          ]
        }
      ]
    },
    {
      "cell_type": "code",
      "source": [
        "l = ['one', 'two', 'three', 'four']\n",
        "\n",
        "#remove an item from list\n",
        "l.remove('three')\n",
        "\n",
        "print(l)"
      ],
      "metadata": {
        "colab": {
          "base_uri": "https://localhost:8080/"
        },
        "id": "kUxxIQR56rSK",
        "outputId": "9a4d1c22-0a48-4bda-fc77-62f5f6047e19"
      },
      "execution_count": null,
      "outputs": [
        {
          "output_type": "stream",
          "name": "stdout",
          "text": [
            "['one', 'two', 'four']\n"
          ]
        }
      ]
    },
    {
      "cell_type": "markdown",
      "source": [
        "## List realted keywords in Python"
      ],
      "metadata": {
        "id": "PWOpVIcK7hHv"
      }
    },
    {
      "cell_type": "code",
      "source": [
        "# keyword 'in' is used to test if an item is in a list\n",
        "l = ['one', 'two', 'three', 'four']\n",
        "\n",
        "if 'two' in l:\n",
        "  print('AI')\n",
        "\n",
        "#keyword 'not' can combined with 'in'\n",
        "if 'six' not in l:\n",
        "  print('ML')"
      ],
      "metadata": {
        "colab": {
          "base_uri": "https://localhost:8080/"
        },
        "id": "GYT2FsZJ7dl0",
        "outputId": "8c26511a-6708-4088-d799-7ec334927b5a"
      },
      "execution_count": null,
      "outputs": [
        {
          "output_type": "stream",
          "name": "stdout",
          "text": [
            "AI\n",
            "ML\n"
          ]
        }
      ]
    },
    {
      "cell_type": "markdown",
      "source": [
        "## List Reverse"
      ],
      "metadata": {
        "id": "Hi8ODmzB9tv7"
      }
    },
    {
      "cell_type": "code",
      "source": [
        "# reverse is reverses the entire list\n",
        "\n",
        "l = ['one', 'two', 'three', 'four']\n",
        "\n",
        "l.reverse()\n",
        "\n",
        "print(l)"
      ],
      "metadata": {
        "colab": {
          "base_uri": "https://localhost:8080/"
        },
        "id": "vnSkm1Vq9oOO",
        "outputId": "e21c64f6-464a-4f5d-fe94-e95c31ebaf34"
      },
      "execution_count": null,
      "outputs": [
        {
          "output_type": "stream",
          "name": "stdout",
          "text": [
            "['four', 'three', 'two', 'one']\n"
          ]
        }
      ]
    },
    {
      "cell_type": "markdown",
      "source": [
        "## List Sorting\n",
        "\n",
        "The easiest way to sort a List is with the sorted(list) function.\n",
        "\n",
        "That takes a list and returns a new list with those elements in sorted order\n",
        "\n",
        "The original list is not changed\n",
        "\n",
        "The sorted() optional argument reverse = True, e.g, sorted(list, reverse=True), makes it sort backwards."
      ],
      "metadata": {
        "id": "B5pmwimG96EQ"
      }
    },
    {
      "cell_type": "code",
      "source": [
        "# create a list with numbers\n",
        "\n",
        "numbers = [3, 1, 6, 2, 8]\n",
        "\n",
        "sorted_list = sorted(numbers)\n",
        "\n",
        "print('Sorted list: ', sorted_list)\n",
        "\n",
        "print('Original list: ', numbers)  # original list remain unchanged"
      ],
      "metadata": {
        "colab": {
          "base_uri": "https://localhost:8080/"
        },
        "id": "zse8NAWA92XU",
        "outputId": "04be0684-9c47-4a3a-de8e-f9393e1ae0f2"
      },
      "execution_count": null,
      "outputs": [
        {
          "output_type": "stream",
          "name": "stdout",
          "text": [
            "Sorted list:  [1, 2, 3, 6, 8]\n",
            "Original list:  [3, 1, 6, 2, 8]\n"
          ]
        }
      ]
    },
    {
      "cell_type": "code",
      "source": [
        "# print a list in reverse sorted order\n",
        "print(\"reverse sorted list: \", sorted(numbers, reverse=True))\n",
        "\n",
        "#original list remain unchanged\n",
        "print(\"Original list: \", numbers)"
      ],
      "metadata": {
        "colab": {
          "base_uri": "https://localhost:8080/"
        },
        "id": "NXk0EnyL_ZCX",
        "outputId": "0815187e-c6d0-454c-bfdc-330f7831c324"
      },
      "execution_count": null,
      "outputs": [
        {
          "output_type": "stream",
          "name": "stdout",
          "text": [
            "reverse sorted list:  [8, 6, 3, 2, 1]\n",
            "Original list:  [3, 1, 6, 2, 8]\n"
          ]
        }
      ]
    },
    {
      "cell_type": "code",
      "source": [
        "l = [1, 20, 5, 5, 4.2]\n",
        "\n",
        "#sort the list and stored in itself\n",
        "l.sort()\n",
        "\n",
        "#add element 'a' to the list to show an error\n",
        "\n",
        "print(\"sorted list: \", l)"
      ],
      "metadata": {
        "colab": {
          "base_uri": "https://localhost:8080/"
        },
        "id": "mljGy8ZMADIN",
        "outputId": "d1ae190d-73ab-44ae-cb48-d8f69f2f5b12"
      },
      "execution_count": null,
      "outputs": [
        {
          "output_type": "stream",
          "name": "stdout",
          "text": [
            "sorted list:  [1, 4.2, 5, 5, 20]\n"
          ]
        }
      ]
    },
    {
      "cell_type": "code",
      "source": [
        "# sort list with element of different datatypes\n",
        "l = [1, 20, 'b', 5, 'a']\n",
        "\n",
        "print(l.sort())"
      ],
      "metadata": {
        "colab": {
          "base_uri": "https://localhost:8080/",
          "height": 176
        },
        "id": "9M5A2Y8wAvH1",
        "outputId": "d4f4661f-77f0-4e90-94a4-181d0087aa92"
      },
      "execution_count": null,
      "outputs": [
        {
          "output_type": "error",
          "ename": "TypeError",
          "evalue": "'<' not supported between instances of 'str' and 'int'",
          "traceback": [
            "\u001b[0;31m---------------------------------------------------------------------------\u001b[0m",
            "\u001b[0;31mTypeError\u001b[0m                                 Traceback (most recent call last)",
            "\u001b[0;32m/tmp/ipython-input-25-1317401193.py\u001b[0m in \u001b[0;36m<cell line: 0>\u001b[0;34m()\u001b[0m\n\u001b[1;32m      2\u001b[0m \u001b[0ml\u001b[0m \u001b[0;34m=\u001b[0m \u001b[0;34m[\u001b[0m\u001b[0;36m1\u001b[0m\u001b[0;34m,\u001b[0m \u001b[0;36m20\u001b[0m\u001b[0;34m,\u001b[0m \u001b[0;34m'b'\u001b[0m\u001b[0;34m,\u001b[0m \u001b[0;36m5\u001b[0m\u001b[0;34m,\u001b[0m \u001b[0;34m'a'\u001b[0m\u001b[0;34m]\u001b[0m\u001b[0;34m\u001b[0m\u001b[0;34m\u001b[0m\u001b[0m\n\u001b[1;32m      3\u001b[0m \u001b[0;34m\u001b[0m\u001b[0m\n\u001b[0;32m----> 4\u001b[0;31m \u001b[0mprint\u001b[0m\u001b[0;34m(\u001b[0m\u001b[0ml\u001b[0m\u001b[0;34m.\u001b[0m\u001b[0msort\u001b[0m\u001b[0;34m(\u001b[0m\u001b[0;34m)\u001b[0m\u001b[0;34m)\u001b[0m\u001b[0;34m\u001b[0m\u001b[0;34m\u001b[0m\u001b[0m\n\u001b[0m",
            "\u001b[0;31mTypeError\u001b[0m: '<' not supported between instances of 'str' and 'int'"
          ]
        }
      ]
    },
    {
      "cell_type": "markdown",
      "source": [
        "## List Having Multiple References"
      ],
      "metadata": {
        "id": "JhLpwcjlCYQq"
      }
    },
    {
      "cell_type": "code",
      "source": [
        "l = [1, 2, 3, 4, 5]\n",
        "abc = l\n",
        "abc.append(6)\n",
        "\n",
        "#print original list\n",
        "print('Original list: ', l)"
      ],
      "metadata": {
        "colab": {
          "base_uri": "https://localhost:8080/"
        },
        "id": "ftjkwzJ5B7bl",
        "outputId": "be798814-1f66-4b1a-df04-35907e1a251a"
      },
      "execution_count": null,
      "outputs": [
        {
          "output_type": "stream",
          "name": "stdout",
          "text": [
            "Original list:  [1, 2, 3, 4, 5, 6]\n"
          ]
        }
      ]
    },
    {
      "cell_type": "markdown",
      "source": [
        "## String Split to create a list"
      ],
      "metadata": {
        "id": "5mJO_FUcCsv6"
      }
    },
    {
      "cell_type": "code",
      "source": [
        "# let's take a string\n",
        "\n",
        "s = \"one,two,three,four,five\"\n",
        "sl = s.split(',')\n",
        "print(sl)"
      ],
      "metadata": {
        "colab": {
          "base_uri": "https://localhost:8080/"
        },
        "id": "rbglUFttCj7i",
        "outputId": "0838ccf8-3e77-46b7-c725-929b8c9cd0b9"
      },
      "execution_count": null,
      "outputs": [
        {
          "output_type": "stream",
          "name": "stdout",
          "text": [
            "['one', 'two', 'three', 'four', 'five']\n"
          ]
        }
      ]
    },
    {
      "cell_type": "code",
      "source": [
        "s = \"This is a data structure course\"\n",
        "split_list = s.split( )        # default split is white-character: space or tab\n",
        "print(split_list)"
      ],
      "metadata": {
        "colab": {
          "base_uri": "https://localhost:8080/"
        },
        "id": "nu62vUHQC4Th",
        "outputId": "c913ccb0-9af0-41a8-ecf9-d4bf19e88655"
      },
      "execution_count": null,
      "outputs": [
        {
          "output_type": "stream",
          "name": "stdout",
          "text": [
            "['This', 'is', 'a', 'data', 'structure', 'course']\n"
          ]
        }
      ]
    },
    {
      "cell_type": "markdown",
      "source": [
        "## List Indexing\n",
        "\n",
        "Each item in the list has an assigned index value starting from 0.\n",
        "\n",
        "Accessing elements in a list is called indexing."
      ],
      "metadata": {
        "id": "wGQ9bKm_D3Q0"
      }
    },
    {
      "cell_type": "code",
      "source": [
        "l = [1, 2, 3, 4]\n",
        "print(l[1])    # print second element\n",
        "\n",
        "#print last element using negative index\n",
        "print(l[-2])"
      ],
      "metadata": {
        "colab": {
          "base_uri": "https://localhost:8080/"
        },
        "id": "9y2YGPlMDFom",
        "outputId": "db8243fc-b758-444a-e031-513aa703199f"
      },
      "execution_count": null,
      "outputs": [
        {
          "output_type": "stream",
          "name": "stdout",
          "text": [
            "2\n",
            "3\n"
          ]
        }
      ]
    },
    {
      "cell_type": "markdown",
      "source": [
        "## List Slicing\n",
        "\n",
        "Accessing parts of segments is called slicing\n",
        "\n",
        "The key point to remember is that the :end value represents the first value that is not in the selected slice."
      ],
      "metadata": {
        "id": "49Y9uygmEgVr"
      }
    },
    {
      "cell_type": "code",
      "source": [
        "numbers = [10, 20, 30, 40, 50, 60, 70, 80]\n",
        "\n",
        "#print all numbers\n",
        "print(numbers[:])\n",
        "\n",
        "#print from index 0 to index 3\n",
        "print(numbers[0:4])"
      ],
      "metadata": {
        "colab": {
          "base_uri": "https://localhost:8080/"
        },
        "id": "QIa3YCohEPjr",
        "outputId": "e4aa592a-b70b-49bc-de3c-5e09f9c9279c"
      },
      "execution_count": null,
      "outputs": [
        {
          "output_type": "stream",
          "name": "stdout",
          "text": [
            "[10, 20, 30, 40, 50, 60, 70, 80]\n",
            "[10, 20, 30, 40]\n"
          ]
        }
      ]
    },
    {
      "cell_type": "code",
      "source": [
        "print(numbers)\n",
        "\n",
        "# print alternate elements in a list\n",
        "\n",
        "print(numbers[::2])\n",
        "\n",
        "# print elements start from 0 through rest of the list\n",
        "print(numbers[2::2])"
      ],
      "metadata": {
        "colab": {
          "base_uri": "https://localhost:8080/"
        },
        "id": "Uoe5MmwtFkAR",
        "outputId": "8fc6fcd1-d070-4bf7-c5e6-be2887759858"
      },
      "execution_count": null,
      "outputs": [
        {
          "output_type": "stream",
          "name": "stdout",
          "text": [
            "[10, 20, 30, 40, 50, 60, 70, 80]\n",
            "[10, 30, 50, 70]\n",
            "[30, 50, 70]\n"
          ]
        }
      ]
    },
    {
      "cell_type": "markdown",
      "source": [
        "## List extend using \"+\""
      ],
      "metadata": {
        "id": "q46mFFZNGb5k"
      }
    },
    {
      "cell_type": "code",
      "source": [
        "l1 = [1, 2, 3, 4]\n",
        "l2 = ['verma', 'naveen', 'murali', 'brahma']\n",
        "\n",
        "new_list = l1 + l2\n",
        "\n",
        "print(new_list)"
      ],
      "metadata": {
        "colab": {
          "base_uri": "https://localhost:8080/"
        },
        "id": "0H1ymUXBGJiN",
        "outputId": "f22dfe9e-afec-437d-ddf5-b20dd7ef3bbe"
      },
      "execution_count": null,
      "outputs": [
        {
          "output_type": "stream",
          "name": "stdout",
          "text": [
            "[1, 2, 3, 4, 'verma', 'naveen', 'murali', 'brahma']\n"
          ]
        }
      ]
    },
    {
      "cell_type": "markdown",
      "source": [
        "## List Count"
      ],
      "metadata": {
        "id": "e0PL-tDQGr1l"
      }
    },
    {
      "cell_type": "code",
      "source": [
        "print(new_list.count(3))        # frequency of 3 in a list"
      ],
      "metadata": {
        "colab": {
          "base_uri": "https://localhost:8080/"
        },
        "id": "VOIJVnadGnoi",
        "outputId": "c95e07fd-4489-45a0-f81b-3c1248cde38b"
      },
      "execution_count": null,
      "outputs": [
        {
          "output_type": "stream",
          "name": "stdout",
          "text": [
            "1\n"
          ]
        }
      ]
    },
    {
      "cell_type": "markdown",
      "source": [
        "## List Looping"
      ],
      "metadata": {
        "id": "uIZWhnJ5I915"
      }
    },
    {
      "cell_type": "code",
      "source": [
        "#loop through a list\n",
        "\n",
        "l = ['one', 'two', 'three', 'four']\n",
        "\n",
        "for element in l:\n",
        "  print(element)"
      ],
      "metadata": {
        "colab": {
          "base_uri": "https://localhost:8080/"
        },
        "id": "fjDRrH3RGxyI",
        "outputId": "f2c4f8fe-0b94-4b79-b1f2-61302f699961"
      },
      "execution_count": null,
      "outputs": [
        {
          "output_type": "stream",
          "name": "stdout",
          "text": [
            "one\n",
            "two\n",
            "three\n",
            "four\n"
          ]
        }
      ]
    },
    {
      "cell_type": "markdown",
      "source": [
        "## List Comprehensions\n",
        "\n",
        "List comprehensions provide a concise way to create lists.\n",
        "\n",
        "Common applications are to make new lists where each element is the result of some operations applied to each member of another sequence or iterable, or to create a subsequence of those elements that satisfy a certain condition.\n",
        "\n",
        "ik complex so - Let's go to example"
      ],
      "metadata": {
        "id": "bcysRGY_JTPr"
      }
    },
    {
      "cell_type": "code",
      "source": [
        "# without list comprehension\n",
        "squares = []\n",
        "for i in range(10):\n",
        "  squares.append(i**2)           #list append\n",
        "print(squares)"
      ],
      "metadata": {
        "colab": {
          "base_uri": "https://localhost:8080/"
        },
        "id": "G_sj9XRWJK23",
        "outputId": "b18701c8-3825-42d7-e1b7-d7ed20146fe1"
      },
      "execution_count": null,
      "outputs": [
        {
          "output_type": "stream",
          "name": "stdout",
          "text": [
            "[0, 1, 4, 9, 16, 25, 36, 49, 64, 81]\n"
          ]
        }
      ]
    },
    {
      "cell_type": "code",
      "source": [
        "# using list comprehension\n",
        "squares = [i**2 for i in range(10)]\n",
        "print(squares)"
      ],
      "metadata": {
        "colab": {
          "base_uri": "https://localhost:8080/"
        },
        "id": "mUomTs6oK8wM",
        "outputId": "51556ea4-112b-4af2-f133-a7179ccb48a0"
      },
      "execution_count": null,
      "outputs": [
        {
          "output_type": "stream",
          "name": "stdout",
          "text": [
            "[0, 1, 4, 9, 16, 25, 36, 49, 64, 81]\n"
          ]
        }
      ]
    },
    {
      "cell_type": "code",
      "source": [
        "#example\n",
        "\n",
        "l = [-10, -20, 10, 20, 50]\n",
        "\n",
        "#create a new list with values doubled\n",
        "new_l = [i*2 for i in l]\n",
        "print(new_l)\n",
        "\n",
        "# filter the list to exclude negative numbers\n",
        "new_list = [i for i in l if i >=0]\n",
        "print(new_list)\n",
        "\n",
        "#create a list of tuples like (number, square_of_number)\n",
        "new_list = [(i, i**2) for i in range(10)]\n",
        "print(new_list)"
      ],
      "metadata": {
        "colab": {
          "base_uri": "https://localhost:8080/"
        },
        "id": "UWIXpc_9Lmfw",
        "outputId": "41778030-10ac-4303-cc17-69a7dd430e41"
      },
      "execution_count": null,
      "outputs": [
        {
          "output_type": "stream",
          "name": "stdout",
          "text": [
            "[-20, -40, 20, 40, 100]\n",
            "[10, 20, 50]\n",
            "[(0, 0), (1, 1), (2, 4), (3, 9), (4, 16), (5, 25), (6, 36), (7, 49), (8, 64), (9, 81)]\n"
          ]
        }
      ]
    },
    {
      "cell_type": "markdown",
      "source": [
        "## Nested List Comprehensions"
      ],
      "metadata": {
        "id": "rJPB9ZTuN7w-"
      }
    },
    {
      "cell_type": "code",
      "source": [
        "#let's suppose we have a matrix\n",
        "\n",
        "matrix = [\n",
        "    [1, 2, 3, 4],\n",
        "    [5, 6, 7, 8],\n",
        "    [9, 10, 11, 12]\n",
        "]\n",
        "\n",
        "#transpose of a matrix without list comprehension\n",
        "transposed = []\n",
        "for i in range(4):\n",
        "  l = []\n",
        "  for row in matrix:\n",
        "    l.append(row[i])\n",
        "  transposed.append(l)\n",
        "\n",
        "print(transposed)"
      ],
      "metadata": {
        "colab": {
          "base_uri": "https://localhost:8080/"
        },
        "id": "k_SS9sr7NljP",
        "outputId": "abe1b8a2-4412-46f8-8c87-c7e8f4fe3660"
      },
      "execution_count": null,
      "outputs": [
        {
          "output_type": "stream",
          "name": "stdout",
          "text": [
            "[[1, 5, 9], [2, 6, 10], [3, 7, 11], [4, 8, 12]]\n"
          ]
        }
      ]
    },
    {
      "cell_type": "code",
      "source": [
        "#with list comprehension\n",
        "transposed = [[row[i] for row in matrix] for i in range(4)]\n",
        "print(transposed)"
      ],
      "metadata": {
        "colab": {
          "base_uri": "https://localhost:8080/"
        },
        "id": "_BdqxXYRO5LM",
        "outputId": "7d836d20-3a67-449e-c327-d9ac93885275"
      },
      "execution_count": null,
      "outputs": [
        {
          "output_type": "stream",
          "name": "stdout",
          "text": [
            "[[1, 5, 9], [2, 6, 10], [3, 7, 11], [4, 8, 12]]\n"
          ]
        }
      ]
    },
    {
      "cell_type": "code",
      "source": [],
      "metadata": {
        "id": "cq1-51TYPgj9"
      },
      "execution_count": null,
      "outputs": []
    }
  ]
}